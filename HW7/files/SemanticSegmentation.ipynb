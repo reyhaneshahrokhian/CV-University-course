{
 "cells": [
  {
   "cell_type": "code",
   "execution_count": null,
   "metadata": {
    "id": "i2a0U5tTpnex"
   },
   "outputs": [],
   "source": [
    "import os\n",
    "os.environ[\"SM_FRAMEWORK\"] = \"tf.keras\""
   ]
  },
  {
   "cell_type": "code",
   "execution_count": null,
   "metadata": {
    "colab": {
     "base_uri": "https://localhost:8080/"
    },
    "id": "WGmTuAx2Zeo_",
    "outputId": "019ff20e-8fa1-40b8-8637-2c1712af9e84"
   },
   "outputs": [],
   "source": [
    "!pip install keras_cv -q"
   ]
  },
  {
   "cell_type": "code",
   "execution_count": null,
   "metadata": {
    "colab": {
     "base_uri": "https://localhost:8080/"
    },
    "id": "TSiV_EWfZ--W",
    "outputId": "21071653-c075-4d66-b4f0-8535c5cb1462"
   },
   "outputs": [],
   "source": [
    "!pip install --upgrade keras"
   ]
  },
  {
   "cell_type": "code",
   "execution_count": null,
   "metadata": {
    "colab": {
     "base_uri": "https://localhost:8080/"
    },
    "id": "4MPWf0CnpPjD",
    "outputId": "9de8b3e1-fbb8-4828-c7af-6283a0e3659b"
   },
   "outputs": [],
   "source": [
    "!pip install segmentation_models"
   ]
  },
  {
   "cell_type": "code",
   "execution_count": null,
   "metadata": {
    "colab": {
     "base_uri": "https://localhost:8080/"
    },
    "id": "73LUd8lnasK7",
    "outputId": "cf45bf56-51f2-4041-d348-69b7e25e018c"
   },
   "outputs": [],
   "source": [
    "import tensorflow as tf\n",
    "import matplotlib.pyplot as plt\n",
    "from sklearn.metrics import accuracy_score\n",
    "import keras\n",
    "from tensorflow.keras import ops\n",
    "import keras_cv\n",
    "import numpy as np\n",
    "import segmentation_models as sm\n",
    "from keras_cv.datasets.pascal_voc.segmentation import load as load_voc\n",
    "from tensorflow.keras import backend as K"
   ]
  },
  {
   "cell_type": "code",
   "execution_count": null,
   "metadata": {
    "id": "oK70yaq7XLIW"
   },
   "outputs": [],
   "source": [
    "train_ds = load_voc(split=\"sbd_train\")\n",
    "eval_ds = load_voc(split=\"sbd_eval\")"
   ]
  },
  {
   "cell_type": "code",
   "execution_count": null,
   "metadata": {
    "colab": {
     "base_uri": "https://localhost:8080/",
     "height": 370
    },
    "id": "dlxK4fRRmSce",
    "outputId": "b8f8e07f-d1e6-409b-ac19-9f1eedfd3ff2"
   },
   "outputs": [],
   "source": [
    "def preprocess_tfds_inputs(inputs):\n",
    "    def unpackage_tfds_inputs(tfds_inputs):\n",
    "        return {\n",
    "            \"images\": tfds_inputs[\"image\"],\n",
    "            \"segmentation_masks\": tfds_inputs[\"class_segmentation\"],\n",
    "        }\n",
    "\n",
    "    outputs = inputs.map(unpackage_tfds_inputs)\n",
    "    outputs = outputs.map(keras_cv.layers.Resizing(height=224, width=224))\n",
    "    outputs = outputs.batch(32, drop_remainder=True)\n",
    "    return outputs\n",
    "\n",
    "\n",
    "train_ds = preprocess_tfds_inputs(train_ds)\n",
    "batch = train_ds.take(1).get_single_element()\n",
    "keras_cv.visualization.plot_segmentation_mask_gallery(\n",
    "    batch[\"images\"],\n",
    "    value_range=(0, 255),\n",
    "    num_classes=21,  \n",
    "    y_true=batch[\"segmentation_masks\"],\n",
    "    scale=3,\n",
    "    rows=2,\n",
    "    cols=2,\n",
    ")"
   ]
  },
  {
   "cell_type": "code",
   "execution_count": null,
   "metadata": {
    "id": "NGZfro2MCzhD"
   },
   "outputs": [],
   "source": [
    "eval_ds = preprocess_tfds_inputs(eval_ds)"
   ]
  },
  {
   "cell_type": "code",
   "execution_count": null,
   "metadata": {
    "colab": {
     "base_uri": "https://localhost:8080/",
     "height": 370
    },
    "id": "V0u92Dasm4f1",
    "outputId": "9096dc7b-3f02-4936-f0d0-b8f27697456d"
   },
   "outputs": [],
   "source": [
    "train_ds = train_ds.map(keras_cv.layers.RandomFlip())\n",
    "train_ds = train_ds.map(keras_cv.layers.RandomRotation(factor=.1,segmentation_classes=21))\n",
    "\n",
    "batch = train_ds.take(1).get_single_element()\n",
    "\n",
    "keras_cv.visualization.plot_segmentation_mask_gallery(\n",
    "    batch[\"images\"],\n",
    "    value_range=(0, 255),\n",
    "    num_classes=21,\n",
    "    y_true=batch[\"segmentation_masks\"],\n",
    "    scale=3,\n",
    "    rows=2,\n",
    "    cols=2,\n",
    ")"
   ]
  },
  {
   "cell_type": "code",
   "execution_count": null,
   "metadata": {
    "id": "UX0dEOBfVZNO"
   },
   "outputs": [],
   "source": [
    "from tensorflow.keras import layers, models\n",
    "from tensorflow.keras.layers import Conv2D, Conv2DTranspose, MaxPooling2D, Dropout, concatenate\n",
    "from tensorflow.keras.models import Model\n",
    "def unet_model(input_size=(224,224, 3)):\n",
    "    #build the model\n",
    "    ####################\n",
    "    #your code goes here\n",
    "    ####################\n",
    "    model = Model(inputs=[inputs], outputs=[outputs])\n",
    "    return model\n",
    "\n",
    "\n",
    "model = unet_model()\n"
   ]
  },
  {
   "cell_type": "code",
   "execution_count": null,
   "metadata": {
    "id": "No3YiWjRd2zj"
   },
   "outputs": [],
   "source": [
    "dice_loss = sm.losses.DiceLoss()\n",
    "focal_loss = sm.losses.CategoricalFocalLoss()\n",
    "total_loss = dice_loss + (1 * focal_loss)"
   ]
  },
  {
   "cell_type": "code",
   "execution_count": null,
   "metadata": {
    "id": "kEsqKjrLqLl6"
   },
   "outputs": [],
   "source": [
    "def jaccard_coef(y_true, y_pred):\n",
    "    y_true_f = K.flatten(y_true)\n",
    "    y_pred_f = K.flatten(y_pred)\n",
    "    intersection = K.sum(y_true_f * y_pred_f)\n",
    "    return (intersection + 1.0) / (K.sum(y_true_f) + K.sum(y_pred_f) - intersection + 1.0)"
   ]
  },
  {
   "cell_type": "code",
   "execution_count": null,
   "metadata": {
    "id": "IcqDFvlnd6a2"
   },
   "outputs": [],
   "source": [
    "metrics=['accuracy', jaccard_coef]\n",
    "#compile the model\n",
    "####################\n",
    "#your code goes here\n",
    "####################"
   ]
  },
  {
   "cell_type": "code",
   "execution_count": null,
   "metadata": {
    "colab": {
     "base_uri": "https://localhost:8080/",
     "height": 1000
    },
    "id": "HJJcdC9tiFrI",
    "outputId": "099e4556-409f-4ff0-dbb7-7f08685aaadd"
   },
   "outputs": [],
   "source": [
    "model.summary()"
   ]
  },
  {
   "cell_type": "code",
   "execution_count": null,
   "metadata": {
    "colab": {
     "base_uri": "https://localhost:8080/",
     "height": 408
    },
    "id": "gRCLB8TjiJyz",
    "outputId": "e875199d-c678-43aa-c23f-6953b05b4cbe"
   },
   "outputs": [],
   "source": [
    "def dict_to_tuple(x):\n",
    "\n",
    "\n",
    "    return x[\"images\"], tf.one_hot(\n",
    "        tf.cast(tf.squeeze(x[\"segmentation_masks\"], axis=-1), \"int32\"), 21\n",
    "    )\n",
    "\n",
    "\n",
    "train_ds = train_ds.map(dict_to_tuple)\n",
    "\n",
    "eval_ds = eval_ds.map(dict_to_tuple)\n",
    "\n"
   ]
  },
  {
   "cell_type": "code",
   "execution_count": null,
   "metadata": {
    "colab": {
     "base_uri": "https://localhost:8080/"
    },
    "id": "7gF59MC-isum",
    "outputId": "7101cff8-0fd8-4f2c-a9ff-d19fae298587"
   },
   "outputs": [],
   "source": [
    "model.fit(train_ds, validation_data=eval_ds, epochs=10 )"
   ]
  },
  {
   "cell_type": "code",
   "execution_count": null,
   "metadata": {
    "id": "D_wLpTWAF76D"
   },
   "outputs": [],
   "source": [
    "activation='softmax'\n",
    "\n",
    "LR = 0.001\n",
    "optim = keras.optimizers.Adam(LR)\n",
    "\n",
    "\n",
    "dice_loss = sm.losses.DiceLoss()\n",
    "focal_loss = sm.losses.CategoricalFocalLoss()\n",
    "total_loss = dice_loss + (1 * focal_loss)\n"
   ]
  },
  {
   "cell_type": "code",
   "execution_count": null,
   "metadata": {
    "colab": {
     "base_uri": "https://localhost:8080/",
     "height": 1000
    },
    "id": "PaZnEkk-yHxE",
    "outputId": "a4359198-ecbc-4d88-f6f4-afa519a14d55"
   },
   "outputs": [],
   "source": [
    "BACKBONE1 = 'mobilenetv2'\n",
    "\n",
    "n_classes=21\n",
    "# define model\n",
    "model1 = sm.Unet(BACKBONE1, encoder_weights='imagenet', classes=n_classes, activation=activation)\n",
    "model1.compile(optim, total_loss, metrics=metrics)\n",
    "print(model1.summary())"
   ]
  },
  {
   "cell_type": "code",
   "execution_count": null,
   "metadata": {
    "id": "CNjHqtsAFn4t"
   },
   "outputs": [],
   "source": [
    "flag = True\n",
    "for l in model1.layers:\n",
    "  if  l.name=='decoder_stage0_upsampling':\n",
    "    flag = ?\n",
    "  if flag:\n",
    "    l.trainable = ?"
   ]
  },
  {
   "cell_type": "code",
   "execution_count": null,
   "metadata": {
    "colab": {
     "base_uri": "https://localhost:8080/",
     "height": 1000
    },
    "id": "DolRVVzKJ1yb",
    "outputId": "90437cca-e596-4bc5-96eb-651dd1cf4ab5"
   },
   "outputs": [],
   "source": [
    "model1.summary()"
   ]
  },
  {
   "cell_type": "code",
   "execution_count": null,
   "metadata": {
    "colab": {
     "base_uri": "https://localhost:8080/"
    },
    "id": "x1YjbSuEKWYJ",
    "outputId": "2ea49b79-bafa-4a78-a99c-f58989f6aedf"
   },
   "outputs": [],
   "source": [
    "model1.fit(train_ds, validation_data=eval_ds, epochs=10, batch_size=32 )"
   ]
  },
  {
   "cell_type": "code",
   "execution_count": null,
   "metadata": {
    "id": "sxfuaaAOONVf"
   },
   "outputs": [],
   "source": [
    "#let all the layers be trained\n",
    "####################\n",
    "#your code goes here\n",
    "####################"
   ]
  },
  {
   "cell_type": "code",
   "execution_count": null,
   "metadata": {
    "id": "jbDBH538GjU5"
   },
   "outputs": [],
   "source": [
    "LR = 0.000005\n",
    "optim = keras.optimizers.Adam(LR)"
   ]
  },
  {
   "cell_type": "code",
   "execution_count": null,
   "metadata": {
    "id": "ue2jQM-AG-Vg"
   },
   "outputs": [],
   "source": [
    "model1.compile(optim, total_loss, metrics=metrics)"
   ]
  },
  {
   "cell_type": "code",
   "execution_count": null,
   "metadata": {
    "id": "RY8xl1X8HDor"
   },
   "outputs": [],
   "source": [
    "model1.fit(train_ds, validation_data=eval_ds, epochs=5, batch_size=32 )"
   ]
  }
 ],
 "metadata": {
  "colab": {
   "provenance": []
  },
  "kernelspec": {
   "display_name": "Python 3 (ipykernel)",
   "language": "python",
   "name": "python3"
  },
  "language_info": {
   "codemirror_mode": {
    "name": "ipython",
    "version": 3
   },
   "file_extension": ".py",
   "mimetype": "text/x-python",
   "name": "python",
   "nbconvert_exporter": "python",
   "pygments_lexer": "ipython3",
   "version": "3.9.13"
  }
 },
 "nbformat": 4,
 "nbformat_minor": 1
}
