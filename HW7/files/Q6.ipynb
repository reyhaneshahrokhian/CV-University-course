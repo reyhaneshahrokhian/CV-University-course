{
  "nbformat": 4,
  "nbformat_minor": 0,
  "metadata": {
    "colab": {
      "provenance": []
    },
    "kernelspec": {
      "name": "python3",
      "display_name": "Python 3"
    },
    "language_info": {
      "name": "python"
    }
  },
  "cells": [
    {
      "cell_type": "markdown",
      "source": [
        "# تمرین سری هفتم\n",
        "object detection on **Pascal VOC** using **Fast R-CNN**"
      ],
      "metadata": {
        "id": "yd56l5Wy2Wck"
      }
    },
    {
      "cell_type": "markdown",
      "source": [
        "## هدف\n",
        " یادگیری استفاده از الگوریتم Fast R-CNN برای وظایف شناسایی اشیا.\n",
        "\n",
        "\n",
        "# در پایان این تمرین، شما قادر خواهید بود یک مدل Fast R-CNN آموزش دهید و از آن برای شناسایی اشیا در تصاویر استفاده کنید."
      ],
      "metadata": {
        "id": "BlxtZOKH6lUu"
      }
    },
    {
      "cell_type": "markdown",
      "source": [
        "------------------------------------------------------"
      ],
      "metadata": {
        "id": "h5i1BvCH3Tdr"
      }
    },
    {
      "cell_type": "markdown",
      "source": [
        "# بخش اول\n",
        "\n",
        "\n",
        "راه اندازی محیط"
      ],
      "metadata": {
        "id": "GraLx9UP3XUA"
      }
    },
    {
      "cell_type": "code",
      "source": [
        "# نصب کتابخانه‌های مورد نیاز\n",
        "!pip install tensorflow opencv-python matplotlib"
      ],
      "metadata": {
        "id": "ApeBiX3E8ZQ7"
      },
      "execution_count": null,
      "outputs": []
    },
    {
      "cell_type": "code",
      "source": [
        "import tensorflow as tf\n",
        "import numpy as np\n",
        "import cv2\n",
        "import matplotlib.pyplot as plt\n",
        "import os\n",
        "import xml.etree.ElementTree as ET\n",
        "\n"
      ],
      "metadata": {
        "collapsed": true,
        "id": "GUXtw1xp3WAx"
      },
      "execution_count": null,
      "outputs": []
    },
    {
      "cell_type": "markdown",
      "source": [
        "# بخش دوم\n",
        "\n",
        "\n",
        "\n",
        "آماده سازی داده"
      ],
      "metadata": {
        "id": "_q1SWNPM5FRL"
      }
    },
    {
      "cell_type": "markdown",
      "source": [
        "دانلود مجموعه داده\n",
        "**Pascal VOC**  \n",
        "و آماده سازی آن.\n",
        "\n",
        " آماده‌سازی مجموعه داده با تبدیل حاشیه‌نویسی‌ها به فرمت مورد نیاز (جعبه‌های مرزی و برچسب‌های کلاس)."
      ],
      "metadata": {
        "id": "5NX81MDO8lxv"
      }
    },
    {
      "cell_type": "code",
      "source": [
        "def load_pascal_voc_dataset(data_path):\n",
        "    \"\"\"\n",
        "    بارگذاری مجموعه داده Pascal VOC و آماده‌سازی آن.\n",
        "\n",
        "    ورودی‌ها:\n",
        "    - data_path (str): مسیر دایرکتوری که مجموعه داده در آن قرار دارد.\n",
        "\n",
        "    خروجی‌ها:\n",
        "    - images (list of str): لیست مسیرهای تصاویر.\n",
        "    - bboxes (list of list): لیست جعبه‌های مرزی برای هر تصویر.\n",
        "    - labels (list of list): لیست برچسب‌ها برای هر تصویر.\n",
        "    \"\"\"\n",
        "    images = []\n",
        "    bboxes = []\n",
        "    labels = []\n",
        "    for root, _, files in os.walk(data_path):\n",
        "        for file in files:\n",
        "            if file.endswith('.xml'):\n",
        "                tree = ET.parse(os.path.join(root, file))\n",
        "                root = tree.getroot()\n",
        "                filename = root.find('filename').text\n",
        "                image_path = os.path.join(root.find('folder').text, filename)\n",
        "                images.append(image_path)\n",
        "                boxes = []\n",
        "                lbls = []\n",
        "                for obj in root.findall('object'):\n",
        "                    bbox = obj.find('bndbox')\n",
        "                    box = [\n",
        "                        int(bbox.find('xmin').text),\n",
        "                        int(bbox.find('ymin').text),\n",
        "                        int(bbox.find('xmax').text),\n",
        "                        int(bbox.find('ymax').text)\n",
        "                    ]\n",
        "                    boxes.append(box)\n",
        "                    lbls.append(obj.find('name').text)\n",
        "                bboxes.append(boxes)\n",
        "                labels.append(lbls)\n",
        "    return images, bboxes, labels\n",
        "\n",
        "data_path = '/path/to/VOCdevkit/VOC2012'  # مسیر خود را به مجموعه داده Pascal VOC تنظیم کنید\n",
        "images, bboxes, labels = load_pascal_voc_dataset(data_path)\n",
        "\n"
      ],
      "metadata": {
        "id": "c_2L4dc45a2m"
      },
      "execution_count": null,
      "outputs": []
    },
    {
      "cell_type": "markdown",
      "source": [
        "# بخش سوم\n",
        "\n",
        "\n",
        "بارگزاری و نمایش مجموعه داده ها"
      ],
      "metadata": {
        "id": "cjzStl6B5iWE"
      }
    },
    {
      "cell_type": "code",
      "source": [
        "#TODO: نوشتن تابع برای نمایش تصاویر و جعبه‌های مرزی آن‌ها\n",
        "def visualize_image_with_bboxes(image_path, bboxes, labels=None):\n",
        "    \"\"\"\n",
        "    نمایش یک تصویر با جعبه‌های مرزی.\n",
        "\n",
        "    ورودی‌ها:\n",
        "    - image_path (str): مسیر فایل تصویر.\n",
        "    - bboxes (list of list): لیست جعبه‌های مرزی، هرکدام به صورت [xmin, ymin, xmax, ymax].\n",
        "    - labels (list of str, اختیاری): لیست برچسب‌ها که متناظر با جعبه‌های مرزی هستند.\n",
        "\n",
        "    خروجی‌ها:\n",
        "    - هیچکدام: تصویر با جعبه‌های مرزی نمایش داده می‌شود.\n",
        "    \"\"\"\n",
        "    image = cv2.imread(image_path)\n",
        "    for i, bbox in enumerate(bboxes):\n",
        "        cv2.rectangle(image, (bbox[0], bbox[1]), (bbox[2], bbox[3]), (0, 255, 0), 2)\n",
        "        if labels:\n",
        "            cv2.putText(image, labels[i], (bbox[0], bbox[1]-10), cv2.FONT_HERSHEY_SIMPLEX, 0.5, (0, 255, 0), 2)\n",
        "    plt.imshow(cv2.cvtColor(image, cv2.COLOR_BGR2RGB))\n",
        "    plt.axis('off')\n",
        "    plt.show()\n",
        "\n",
        "# نمایش نمونه‌ای از داده‌ها\n",
        "visualize_image_with_bboxes(images[0], bboxes[0], labels[0])\n",
        "\n"
      ],
      "metadata": {
        "id": "5isdL53S5q2u"
      },
      "execution_count": null,
      "outputs": []
    },
    {
      "cell_type": "markdown",
      "source": [
        "# مرحله 4\n",
        "\n",
        "\n",
        "آماده سازی مدل"
      ],
      "metadata": {
        "id": "64P8z7Kh57sd"
      }
    },
    {
      "cell_type": "markdown",
      "source": [
        "بارگذاری یک مدل پیش‌آموزش دیده\n",
        "\n",
        "***Fast R-CNN***\n",
        "\n",
        "از مدل\n",
        "\n",
        "***zoo***\n",
        "\n",
        "در\n",
        "\n",
        "\n",
        "***tensorflow***"
      ],
      "metadata": {
        "id": "Wwj8dHI5-fqY"
      }
    },
    {
      "cell_type": "code",
      "source": [
        "# مرحله 4: آماده‌سازی مدل\n",
        "#  از مدل زو TensorFlow (Fast R-CNN می‌تواند به روشی مشابه استفاده شود).\n",
        "\n",
        "# TODO: نوشتن تابع برای بارگذاری یک مدل Faster R-CNN پیش‌آموزش دیده\n",
        "def load_pretrained_model():\n",
        "    \"\"\"\n",
        "    بارگذاری یک مدل Faster R-CNN پیش‌آموزش دیده از مدل زو TensorFlow.\n",
        "\n",
        "    خروجی‌ها:\n",
        "    - model: مدل Faster R-CNN پیش‌آموزش دیده.\n",
        "    \"\"\"\n",
        "    # دانشجویان باید این قسمت را تکمیل کنند\n",
        "    pass\n",
        "\n",
        "model = load_pretrained_model()"
      ],
      "metadata": {
        "id": "CNPvCeMV6BJT"
      },
      "execution_count": null,
      "outputs": []
    },
    {
      "cell_type": "markdown",
      "source": [
        "# مرحله ششم\n",
        "\n",
        "استنتاج\n",
        "\n",
        "نوشتن تابع برای انجام استنتاج بر روی یک تصویر با استفاده از مدل\n",
        "\n",
        "\n",
        "***Faster R-CNN.***"
      ],
      "metadata": {
        "id": "sX99YpxY6FuY"
      }
    },
    {
      "cell_type": "code",
      "source": [
        "# TODO: نوشتن تابع برای پیش‌پردازش تصویر برای استنتاج مدل\n",
        "def preprocess_image(image_path):\n",
        "    \"\"\"\n",
        "    پیش‌پردازش یک تصویر برای استنتاج مدل.\n",
        "\n",
        "    ورودی‌ها:\n",
        "    - image_path (str): مسیر فایل تصویر.\n",
        "\n",
        "    خروجی‌ها:\n",
        "    - input_image (آرایه numpy): تصویر پیش‌پردازش شده آماده برای ورودی مدل.\n",
        "    - original_image (آرایه numpy): تصویر اصلی برای نمایش.\n",
        "    \"\"\"\n",
        "    # دانشجویان باید این قسمت را تکمیل کنند\n",
        "    pass"
      ],
      "metadata": {
        "id": "UASHo_356MzG"
      },
      "execution_count": null,
      "outputs": []
    },
    {
      "cell_type": "code",
      "source": [
        "# TODO: نوشتن تابع برای شناسایی اشیا\n",
        "def detect_objects(model, image_path, threshold=0.5):\n",
        "    \"\"\"\n",
        "    شناسایی اشیا در یک تصویر با استفاده از یک مدل پیش‌آموزش دیده.\n",
        "\n",
        "    ورودی‌ها:\n",
        "    - model: مدل پیش‌آموزش دیده.\n",
        "    - image_path (str): مسیر فایل تصویر.\n",
        "    - threshold (شناور): آستانه شناسایی.\n",
        "\n",
        "    خروجی‌ها:\n",
        "    - هیچکدام: تصویر با جعبه‌های مرزی شناسایی شده نمایش داده می‌شود.\n",
        "    \"\"\"\n",
        "    # دانشجویان باید این قسمت را تکمیل کنند\n",
        "    pass\n",
        "\n",
        "# دانشجویان باید 'path_to_your_image.jpg' را با یک مسیر تصویر واقعی جایگزین کنند\n",
        "detect_objects(model, images[0])"
      ],
      "metadata": {
        "id": "WB1QCgCn_cQ5"
      },
      "execution_count": null,
      "outputs": []
    },
    {
      "cell_type": "markdown",
      "source": [
        "# مرحله هفتم\n",
        "\n",
        "ارزیابی"
      ],
      "metadata": {
        "id": "0ZZe6X1M6RfO"
      }
    },
    {
      "cell_type": "code",
      "source": [
        "# TODO:  نوشتن تابع ارزیابی مدل با استفاده از معیار های خواسته شده\n",
        "def evaluate_model(model, dataset):\n",
        "    \"\"\"\n",
        "    ارزیابی عملکرد مدل بر روی یک مجموعه اعتبارسنجی.\n",
        "\n",
        "    ورودی‌ها:\n",
        "    - model: مدل آموزش دیده.\n",
        "    - dataset: مجموعه داده اعتبارسنجی.\n",
        "\n",
        "    خروجی‌ها:\n",
        "    - metrics: دیکشنری حاوی معیارهای ارزیابی مانند میانگین دقت متوسط (mAP).\n",
        "    \"\"\"\n",
        "    # دانشجویان باید این قسمت را تکمیل کنند\n",
        "    pass\n",
        "\n"
      ],
      "metadata": {
        "id": "q6mLP4cl6Waz"
      },
      "execution_count": null,
      "outputs": []
    }
  ]
}