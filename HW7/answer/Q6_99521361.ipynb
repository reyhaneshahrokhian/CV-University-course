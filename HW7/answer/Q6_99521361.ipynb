{
 "nbformat": 4,
 "nbformat_minor": 0,
 "metadata": {
  "colab": {
   "provenance": [],
   "toc_visible": true
  },
  "kernelspec": {
   "name": "python3",
   "display_name": "Python 3"
  },
  "language_info": {
   "name": "python"
  }
 },
 "cells": [
  {
   "cell_type": "markdown",
   "source": [
    "# تمرین سری هفتم\n",
    "object detection on **Pascal VOC** using **Fast R-CNN**"
   ],
   "metadata": {
    "id": "yd56l5Wy2Wck"
   }
  },
  {
   "cell_type": "markdown",
   "source": [
    "## هدف\n",
    " یادگیری استفاده از الگوریتم Fast R-CNN برای وظایف شناسایی اشیا.\n",
    "\n",
    "\n",
    "# در پایان این تمرین، شما قادر خواهید بود یک مدل Fast R-CNN آموزش دهید و از آن برای شناسایی اشیا در تصاویر استفاده کنید."
   ],
   "metadata": {
    "id": "BlxtZOKH6lUu"
   }
  },
  {
   "cell_type": "markdown",
   "source": [
    "------------------------------------------------------"
   ],
   "metadata": {
    "id": "h5i1BvCH3Tdr"
   }
  },
  {
   "cell_type": "markdown",
   "source": [
    "# بخش اول\n",
    "\n",
    "\n",
    "راه اندازی محیط"
   ],
   "metadata": {
    "id": "GraLx9UP3XUA"
   }
  },
  {
   "cell_type": "code",
   "source": [
    "# نصب کتابخانه‌های مورد نیاز\n",
    "!pip install tensorflow opencv-python matplotlib"
   ],
   "metadata": {
    "id": "ApeBiX3E8ZQ7",
    "colab": {
     "base_uri": "https://localhost:8080/"
    },
    "outputId": "9f31f03d-2409-4070-c6d7-52889e367967"
   },
   "execution_count": 1,
   "outputs": [
    {
     "output_type": "stream",
     "name": "stdout",
     "text": [
      "Requirement already satisfied: tensorflow in /usr/local/lib/python3.10/dist-packages (2.15.0)\n",
      "Requirement already satisfied: opencv-python in /usr/local/lib/python3.10/dist-packages (4.8.0.76)\n",
      "Requirement already satisfied: matplotlib in /usr/local/lib/python3.10/dist-packages (3.7.1)\n",
      "Requirement already satisfied: absl-py>=1.0.0 in /usr/local/lib/python3.10/dist-packages (from tensorflow) (1.4.0)\n",
      "Requirement already satisfied: astunparse>=1.6.0 in /usr/local/lib/python3.10/dist-packages (from tensorflow) (1.6.3)\n",
      "Requirement already satisfied: flatbuffers>=23.5.26 in /usr/local/lib/python3.10/dist-packages (from tensorflow) (24.3.25)\n",
      "Requirement already satisfied: gast!=0.5.0,!=0.5.1,!=0.5.2,>=0.2.1 in /usr/local/lib/python3.10/dist-packages (from tensorflow) (0.5.4)\n",
      "Requirement already satisfied: google-pasta>=0.1.1 in /usr/local/lib/python3.10/dist-packages (from tensorflow) (0.2.0)\n",
      "Requirement already satisfied: h5py>=2.9.0 in /usr/local/lib/python3.10/dist-packages (from tensorflow) (3.9.0)\n",
      "Requirement already satisfied: libclang>=13.0.0 in /usr/local/lib/python3.10/dist-packages (from tensorflow) (18.1.1)\n",
      "Requirement already satisfied: ml-dtypes~=0.2.0 in /usr/local/lib/python3.10/dist-packages (from tensorflow) (0.2.0)\n",
      "Requirement already satisfied: numpy<2.0.0,>=1.23.5 in /usr/local/lib/python3.10/dist-packages (from tensorflow) (1.25.2)\n",
      "Requirement already satisfied: opt-einsum>=2.3.2 in /usr/local/lib/python3.10/dist-packages (from tensorflow) (3.3.0)\n",
      "Requirement already satisfied: packaging in /usr/local/lib/python3.10/dist-packages (from tensorflow) (24.1)\n",
      "Requirement already satisfied: protobuf!=4.21.0,!=4.21.1,!=4.21.2,!=4.21.3,!=4.21.4,!=4.21.5,<5.0.0dev,>=3.20.3 in /usr/local/lib/python3.10/dist-packages (from tensorflow) (3.20.3)\n",
      "Requirement already satisfied: setuptools in /usr/local/lib/python3.10/dist-packages (from tensorflow) (67.7.2)\n",
      "Requirement already satisfied: six>=1.12.0 in /usr/local/lib/python3.10/dist-packages (from tensorflow) (1.16.0)\n",
      "Requirement already satisfied: termcolor>=1.1.0 in /usr/local/lib/python3.10/dist-packages (from tensorflow) (2.4.0)\n",
      "Requirement already satisfied: typing-extensions>=3.6.6 in /usr/local/lib/python3.10/dist-packages (from tensorflow) (4.12.2)\n",
      "Requirement already satisfied: wrapt<1.15,>=1.11.0 in /usr/local/lib/python3.10/dist-packages (from tensorflow) (1.14.1)\n",
      "Requirement already satisfied: tensorflow-io-gcs-filesystem>=0.23.1 in /usr/local/lib/python3.10/dist-packages (from tensorflow) (0.37.0)\n",
      "Requirement already satisfied: grpcio<2.0,>=1.24.3 in /usr/local/lib/python3.10/dist-packages (from tensorflow) (1.64.1)\n",
      "Requirement already satisfied: tensorboard<2.16,>=2.15 in /usr/local/lib/python3.10/dist-packages (from tensorflow) (2.15.2)\n",
      "Requirement already satisfied: tensorflow-estimator<2.16,>=2.15.0 in /usr/local/lib/python3.10/dist-packages (from tensorflow) (2.15.0)\n",
      "Requirement already satisfied: keras<2.16,>=2.15.0 in /usr/local/lib/python3.10/dist-packages (from tensorflow) (2.15.0)\n",
      "Requirement already satisfied: contourpy>=1.0.1 in /usr/local/lib/python3.10/dist-packages (from matplotlib) (1.2.1)\n",
      "Requirement already satisfied: cycler>=0.10 in /usr/local/lib/python3.10/dist-packages (from matplotlib) (0.12.1)\n",
      "Requirement already satisfied: fonttools>=4.22.0 in /usr/local/lib/python3.10/dist-packages (from matplotlib) (4.53.0)\n",
      "Requirement already satisfied: kiwisolver>=1.0.1 in /usr/local/lib/python3.10/dist-packages (from matplotlib) (1.4.5)\n",
      "Requirement already satisfied: pillow>=6.2.0 in /usr/local/lib/python3.10/dist-packages (from matplotlib) (9.4.0)\n",
      "Requirement already satisfied: pyparsing>=2.3.1 in /usr/local/lib/python3.10/dist-packages (from matplotlib) (3.1.2)\n",
      "Requirement already satisfied: python-dateutil>=2.7 in /usr/local/lib/python3.10/dist-packages (from matplotlib) (2.8.2)\n",
      "Requirement already satisfied: wheel<1.0,>=0.23.0 in /usr/local/lib/python3.10/dist-packages (from astunparse>=1.6.0->tensorflow) (0.43.0)\n",
      "Requirement already satisfied: google-auth<3,>=1.6.3 in /usr/local/lib/python3.10/dist-packages (from tensorboard<2.16,>=2.15->tensorflow) (2.27.0)\n",
      "Requirement already satisfied: google-auth-oauthlib<2,>=0.5 in /usr/local/lib/python3.10/dist-packages (from tensorboard<2.16,>=2.15->tensorflow) (1.2.0)\n",
      "Requirement already satisfied: markdown>=2.6.8 in /usr/local/lib/python3.10/dist-packages (from tensorboard<2.16,>=2.15->tensorflow) (3.6)\n",
      "Requirement already satisfied: requests<3,>=2.21.0 in /usr/local/lib/python3.10/dist-packages (from tensorboard<2.16,>=2.15->tensorflow) (2.31.0)\n",
      "Requirement already satisfied: tensorboard-data-server<0.8.0,>=0.7.0 in /usr/local/lib/python3.10/dist-packages (from tensorboard<2.16,>=2.15->tensorflow) (0.7.2)\n",
      "Requirement already satisfied: werkzeug>=1.0.1 in /usr/local/lib/python3.10/dist-packages (from tensorboard<2.16,>=2.15->tensorflow) (3.0.3)\n",
      "Requirement already satisfied: cachetools<6.0,>=2.0.0 in /usr/local/lib/python3.10/dist-packages (from google-auth<3,>=1.6.3->tensorboard<2.16,>=2.15->tensorflow) (5.3.3)\n",
      "Requirement already satisfied: pyasn1-modules>=0.2.1 in /usr/local/lib/python3.10/dist-packages (from google-auth<3,>=1.6.3->tensorboard<2.16,>=2.15->tensorflow) (0.4.0)\n",
      "Requirement already satisfied: rsa<5,>=3.1.4 in /usr/local/lib/python3.10/dist-packages (from google-auth<3,>=1.6.3->tensorboard<2.16,>=2.15->tensorflow) (4.9)\n",
      "Requirement already satisfied: requests-oauthlib>=0.7.0 in /usr/local/lib/python3.10/dist-packages (from google-auth-oauthlib<2,>=0.5->tensorboard<2.16,>=2.15->tensorflow) (1.3.1)\n",
      "Requirement already satisfied: charset-normalizer<4,>=2 in /usr/local/lib/python3.10/dist-packages (from requests<3,>=2.21.0->tensorboard<2.16,>=2.15->tensorflow) (3.3.2)\n",
      "Requirement already satisfied: idna<4,>=2.5 in /usr/local/lib/python3.10/dist-packages (from requests<3,>=2.21.0->tensorboard<2.16,>=2.15->tensorflow) (3.7)\n",
      "Requirement already satisfied: urllib3<3,>=1.21.1 in /usr/local/lib/python3.10/dist-packages (from requests<3,>=2.21.0->tensorboard<2.16,>=2.15->tensorflow) (2.0.7)\n",
      "Requirement already satisfied: certifi>=2017.4.17 in /usr/local/lib/python3.10/dist-packages (from requests<3,>=2.21.0->tensorboard<2.16,>=2.15->tensorflow) (2024.6.2)\n",
      "Requirement already satisfied: MarkupSafe>=2.1.1 in /usr/local/lib/python3.10/dist-packages (from werkzeug>=1.0.1->tensorboard<2.16,>=2.15->tensorflow) (2.1.5)\n",
      "Requirement already satisfied: pyasn1<0.7.0,>=0.4.6 in /usr/local/lib/python3.10/dist-packages (from pyasn1-modules>=0.2.1->google-auth<3,>=1.6.3->tensorboard<2.16,>=2.15->tensorflow) (0.6.0)\n",
      "Requirement already satisfied: oauthlib>=3.0.0 in /usr/local/lib/python3.10/dist-packages (from requests-oauthlib>=0.7.0->google-auth-oauthlib<2,>=0.5->tensorboard<2.16,>=2.15->tensorflow) (3.2.2)\n"
     ]
    }
   ]
  },
  {
   "cell_type": "code",
   "source": [
    "import tensorflow as tf\n",
    "import numpy as np\n",
    "import cv2\n",
    "import matplotlib.pyplot as plt\n",
    "import os\n",
    "import xml.etree.ElementTree as ET\n",
    "\n"
   ],
   "metadata": {
    "collapsed": true,
    "id": "GUXtw1xp3WAx"
   },
   "execution_count": 2,
   "outputs": []
  },
  {
   "cell_type": "markdown",
   "source": [
    "# بخش دوم\n",
    "\n",
    "\n",
    "\n",
    "آماده سازی داده"
   ],
   "metadata": {
    "id": "_q1SWNPM5FRL"
   }
  },
  {
   "cell_type": "markdown",
   "source": [
    "دانلود مجموعه داده\n",
    "**Pascal VOC**  \n",
    "و آماده سازی آن.\n",
    "\n",
    " آماده‌سازی مجموعه داده با تبدیل حاشیه‌نویسی‌ها به فرمت مورد نیاز (جعبه‌های مرزی و برچسب‌های کلاس)."
   ],
   "metadata": {
    "id": "5NX81MDO8lxv"
   }
  },
  {
   "cell_type": "code",
   "source": [
    "def load_pascal_voc_dataset(data_path):\n",
    "    \"\"\"\n",
    "    بارگذاری مجموعه داده Pascal VOC و آماده‌سازی آن.\n",
    "\n",
    "    ورودی‌ها:\n",
    "    - data_path (str): مسیر دایرکتوری که مجموعه داده در آن قرار دارد.\n",
    "\n",
    "    خروجی‌ها:\n",
    "    - images (list of str): لیست مسیرهای تصاویر.\n",
    "    - bboxes (list of list): لیست جعبه‌های مرزی برای هر تصویر.\n",
    "    - labels (list of list): لیست برچسب‌ها برای هر تصویر.\n",
    "    \"\"\"\n",
    "    images = []\n",
    "    bboxes = []\n",
    "    labels = []\n",
    "    for root, _, files in os.walk(data_path):\n",
    "        for file in files:\n",
    "            if file.endswith('.xml'):\n",
    "                tree = ET.parse(os.path.join(root, file))\n",
    "                root = tree.getroot()\n",
    "                filename = root.find('filename').text\n",
    "                image_path = os.path.join(root.find('folder').text, filename)\n",
    "                images.append(image_path)\n",
    "                boxes = []\n",
    "                lbls = []\n",
    "                for obj in root.findall('object'):\n",
    "                    bbox = obj.find('bndbox')\n",
    "                    box = [\n",
    "                        int(bbox.find('xmin').text),\n",
    "                        int(bbox.find('ymin').text),\n",
    "                        int(bbox.find('xmax').text),\n",
    "                        int(bbox.find('ymax').text)\n",
    "                    ]\n",
    "                    boxes.append(box)\n",
    "                    lbls.append(obj.find('name').text)\n",
    "                bboxes.append(boxes)\n",
    "                labels.append(lbls)\n",
    "    return images, bboxes, labels\n",
    "\n",
    "data_path = '/path/to/VOCdevkit/VOC2012'  # مسیر خود را به مجموعه داده Pascal VOC تنظیم کنید\n",
    "images, bboxes, labels = load_pascal_voc_dataset(data_path)\n",
    "\n"
   ],
   "metadata": {
    "id": "c_2L4dc45a2m"
   },
   "execution_count": null,
   "outputs": []
  },
  {
   "cell_type": "markdown",
   "source": [
    "# بخش سوم\n",
    "\n",
    "\n",
    "بارگزاری و نمایش مجموعه داده ها"
   ],
   "metadata": {
    "id": "cjzStl6B5iWE"
   }
  },
  {
   "cell_type": "code",
   "source": [
    "#TODO: نوشتن تابع برای نمایش تصاویر و جعبه‌های مرزی آن‌ها\n",
    "def visualize_image_with_bboxes(image_path, bboxes, labels=None):\n",
    "    \"\"\"\n",
    "    نمایش یک تصویر با جعبه‌های مرزی.\n",
    "\n",
    "    ورودی‌ها:\n",
    "    - image_path (str): مسیر فایل تصویر.\n",
    "    - bboxes (list of list): لیست جعبه‌های مرزی، هرکدام به صورت [xmin, ymin, xmax, ymax].\n",
    "    - labels (list of str, اختیاری): لیست برچسب‌ها که متناظر با جعبه‌های مرزی هستند.\n",
    "\n",
    "    خروجی‌ها:\n",
    "    - هیچکدام: تصویر با جعبه‌های مرزی نمایش داده می‌شود.\n",
    "    \"\"\"\n",
    "    image = cv2.imread(image_path)\n",
    "    for i, bbox in enumerate(bboxes):\n",
    "        cv2.rectangle(image, (bbox[0], bbox[1]), (bbox[2], bbox[3]), (0, 255, 0), 2)\n",
    "        if labels:\n",
    "            cv2.putText(image, labels[i], (bbox[0], bbox[1]-10), cv2.FONT_HERSHEY_SIMPLEX, 0.5, (0, 255, 0), 2)\n",
    "    plt.imshow(cv2.cvtColor(image, cv2.COLOR_BGR2RGB))\n",
    "    plt.axis('off')\n",
    "    plt.show()\n",
    "\n",
    "# نمایش نمونه‌ای از داده‌ها\n",
    "visualize_image_with_bboxes(images[0], bboxes[0], labels[0])\n",
    "\n"
   ],
   "metadata": {
    "id": "5isdL53S5q2u"
   },
   "execution_count": null,
   "outputs": []
  },
  {
   "cell_type": "markdown",
   "source": [
    "# مرحله 4\n",
    "\n",
    "\n",
    "آماده سازی مدل"
   ],
   "metadata": {
    "id": "64P8z7Kh57sd"
   }
  },
  {
   "cell_type": "markdown",
   "source": [
    "بارگذاری یک مدل پیش‌آموزش دیده\n",
    "\n",
    "***Fast R-CNN***\n",
    "\n",
    "از مدل\n",
    "\n",
    "***zoo***\n",
    "\n",
    "در\n",
    "\n",
    "\n",
    "***tensorflow***"
   ],
   "metadata": {
    "id": "Wwj8dHI5-fqY"
   }
  },
  {
   "cell_type": "code",
   "source": [
    "# مرحله 4: آماده‌سازی مدل\n",
    "#  از مدل زو TensorFlow (Fast R-CNN می‌تواند به روشی مشابه استفاده شود).\n",
    "\n",
    "# TODO: نوشتن تابع برای بارگذاری یک مدل Faster R-CNN پیش‌آموزش دیده\n",
    "import tensorflow_hub as hub\n",
    "def load_pretrained_model():\n",
    "    \"\"\"\n",
    "    بارگذاری یک مدل Faster R-CNN پیش‌آموزش دیده از مدل زو TensorFlow.\n",
    "\n",
    "    خروجی‌ها:\n",
    "    - model: مدل Faster R-CNN پیش‌آموزش دیده.\n",
    "    \"\"\"\n",
    "    # دانشجویان باید این قسمت را تکمیل کنند\n",
    "    # URL to a pre-trained Faster R-CNN model in TensorFlow Hub\n",
    "    model_url = \"https://tfhub.dev/tensorflow/faster_rcnn/resnet50_v1_640x640/1\"\n",
    "\n",
    "    # Load the pre-trained model\n",
    "    model = hub.load(model_url)\n",
    "    return model\n",
    "\n",
    "model = load_pretrained_model()"
   ],
   "metadata": {
    "id": "CNPvCeMV6BJT"
   },
   "execution_count": 3,
   "outputs": []
  },
  {
   "cell_type": "markdown",
   "source": [
    "# مرحله ششم\n",
    "\n",
    "استنتاج\n",
    "\n",
    "نوشتن تابع برای انجام استنتاج بر روی یک تصویر با استفاده از مدل\n",
    "\n",
    "\n",
    "***Faster R-CNN.***"
   ],
   "metadata": {
    "id": "sX99YpxY6FuY"
   }
  },
  {
   "cell_type": "code",
   "source": [
    "# TODO: نوشتن تابع برای پیش‌پردازش تصویر برای استنتاج مدل\n",
    "def preprocess_image(image_path):\n",
    "    \"\"\"\n",
    "    پیش‌پردازش یک تصویر برای استنتاج مدل.\n",
    "\n",
    "    ورودی‌ها:\n",
    "    - image_path (str): مسیر فایل تصویر.\n",
    "\n",
    "    خروجی‌ها:\n",
    "    - input_image (آرایه numpy): تصویر پیش‌پردازش شده آماده برای ورودی مدل.\n",
    "    - original_image (آرایه numpy): تصویر اصلی برای نمایش.\n",
    "    \"\"\"\n",
    "    # دانشجویان باید این قسمت را تکمیل کنند\n",
    "    # Read the image\n",
    "    original_image = cv2.imread(image_path)\n",
    "    if original_image is None:\n",
    "        raise FileNotFoundError(f\"Image not found at {image_path}\")\n",
    "\n",
    "    # Convert image to RGB (from BGR, which is default in OpenCV)\n",
    "    original_image = cv2.cvtColor(original_image, cv2.COLOR_BGR2RGB)\n",
    "\n",
    "    # Resize the image to the size expected by the model (640x640 for the pre-trained Faster R-CNN model)\n",
    "    input_image = cv2.resize(original_image, (640, 640))\n",
    "\n",
    "    # Normalize the image: the pre-trained Faster R-CNN model expects pixel values in the range [0, 1]\n",
    "    input_image = input_image.astype(np.float32) / 255.0\n",
    "\n",
    "    return input_image, original_image"
   ],
   "metadata": {
    "id": "UASHo_356MzG"
   },
   "execution_count": 4,
   "outputs": []
  },
  {
   "cell_type": "code",
   "source": [
    "# TODO: نوشتن تابع برای شناسایی اشیا\n",
    "def detect_objects(model, image_path, threshold=0.5):\n",
    "    \"\"\"\n",
    "    شناسایی اشیا در یک تصویر با استفاده از یک مدل پیش‌آموزش دیده.\n",
    "\n",
    "    ورودی‌ها:\n",
    "    - model: مدل پیش‌آموزش دیده.\n",
    "    - image_path (str): مسیر فایل تصویر.\n",
    "    - threshold (شناور): آستانه شناسایی.\n",
    "\n",
    "    خروجی‌ها:\n",
    "    - هیچکدام: تصویر با جعبه‌های مرزی شناسایی شده نمایش داده می‌شود.\n",
    "    \"\"\"\n",
    "    # دانشجویان باید این قسمت را تکمیل کنند\n",
    "    # Preprocess the image\n",
    "    input_image, original_image = preprocess_image(image_path)\n",
    "\n",
    "    # Convert the preprocessed image to a tensor and add a batch dimension\n",
    "    input_tensor = tf.convert_to_tensor(input_image)\n",
    "    input_tensor = input_tensor[tf.newaxis, ...]\n",
    "\n",
    "    # Perform inference\n",
    "    detections = model(input_tensor)\n",
    "\n",
    "    # Extract detection results\n",
    "    detection_boxes = detections['detection_boxes'][0].numpy()\n",
    "    detection_scores = detections['detection_scores'][0].numpy()\n",
    "    detection_classes = detections['detection_classes'][0].numpy().astype(int)\n",
    "\n",
    "    # Get the height and width of the original image\n",
    "    height, width, _ = original_image.shape\n",
    "\n",
    "    # Draw bounding boxes and labels on the original image\n",
    "    for i in range(len(detection_boxes)):\n",
    "        if detection_scores[i] >= threshold:\n",
    "            box = detection_boxes[i] * [height, width, height, width]\n",
    "            box = box.astype(int)\n",
    "            class_id = detection_classes[i]\n",
    "            score = detection_scores[i]\n",
    "\n",
    "            # Draw bounding box\n",
    "            cv2.rectangle(original_image, (box[1], box[0]), (box[3], box[2]), (0, 255, 0), 2)\n",
    "\n",
    "            # Draw label and score\n",
    "            label = f\"Class {class_id}: {score:.2f}\"\n",
    "            cv2.putText(original_image, label, (box[1], box[0] - 10), cv2.FONT_HERSHEY_SIMPLEX, 0.5, (0, 255, 0), 2)\n",
    "\n",
    "    # Display the image with bounding boxes\n",
    "    plt.imshow(original_image)\n",
    "    plt.axis('off')\n",
    "    plt.show()\n",
    "\n",
    "# دانشجویان باید 'path_to_your_image.jpg' را با یک مسیر تصویر واقعی جایگزین کنند\n",
    "detect_objects(model, images[0])"
   ],
   "metadata": {
    "id": "WB1QCgCn_cQ5"
   },
   "execution_count": null,
   "outputs": []
  },
  {
   "cell_type": "markdown",
   "source": [
    "# مرحله هفتم\n",
    "\n",
    "ارزیابی"
   ],
   "metadata": {
    "id": "0ZZe6X1M6RfO"
   }
  },
  {
   "cell_type": "code",
   "source": [
    "def compute_iou(box1, box2):\n",
    "    ymin1, xmin1, ymax1, xmax1 = box1\n",
    "    ymin2, xmin2, ymax2, xmax2 = box2\n",
    "\n",
    "    inter_ymin = max(ymin1, ymin2)\n",
    "    inter_xmin = max(xmin1, xmin2)\n",
    "    inter_ymax = min(ymax1, ymax2)\n",
    "    inter_xmax = min(xmax1, xmax2)\n",
    "\n",
    "    inter_area = max(0, inter_ymax - inter_ymin) * max(0, inter_xmax - inter_xmin)\n",
    "    box1_area = (ymax1 - ymin1) * (xmax1 - xmin1)\n",
    "    box2_area = (ymax2 - ymin2) * (xmax2 - xmin2)\n",
    "    union_area = box1_area + box2_area - inter_area\n",
    "\n",
    "    iou = inter_area / union_area if union_area != 0 else 0\n",
    "    return iou"
   ],
   "metadata": {
    "id": "TVWXH1sL1TS5"
   },
   "execution_count": 5,
   "outputs": []
  },
  {
   "cell_type": "code",
   "source": [
    "def compute_map(detections, annotations, iou_threshold):\n",
    "    average_precisions = []\n",
    "    for class_id in set([cls for det in detections for cls in det[2]]):\n",
    "        true_positives = []\n",
    "        scores = []\n",
    "        num_annotations = 0\n",
    "        for i in range(len(detections)):\n",
    "            detected_boxes, detected_scores, detected_classes = detections[i]\n",
    "            gt_boxes, gt_labels = annotations[i]\n",
    "            gt_boxes = [box for j, box in enumerate(gt_boxes) if gt_labels[j] == class_id]\n",
    "            detected_boxes = [box for j, box in enumerate(detected_boxes) if detected_classes[j] == class_id]\n",
    "            detected_scores = [score for j, score in enumerate(detected_scores) if detected_classes[j] == class_id]\n",
    "            num_annotations += len(gt_boxes)\n",
    "\n",
    "            if len(gt_boxes) == 0:\n",
    "                true_positives.extend([0] * len(detected_boxes))\n",
    "                scores.extend(detected_scores)\n",
    "                continue\n",
    "\n",
    "            detected_boxes = np.array(detected_boxes)\n",
    "            gt_boxes = np.array(gt_boxes)\n",
    "            scores.extend(detected_scores)\n",
    "\n",
    "            for d, detected_box in enumerate(detected_boxes):\n",
    "                ious = [compute_iou(detected_box, gt_box) for gt_box in gt_boxes]\n",
    "                max_iou = max(ious) if ious else 0\n",
    "                if max_iou >= iou_threshold:\n",
    "                    true_positives.append(1)\n",
    "                else:\n",
    "                    true_positives.append(0)\n",
    "\n",
    "        if num_annotations == 0:\n",
    "            average_precisions.append(0)\n",
    "            continue\n",
    "\n",
    "        sorted_indices = np.argsort(-np.array(scores))\n",
    "        true_positives = np.array(true_positives)[sorted_indices]\n",
    "        false_positives = 1 - true_positives\n",
    "\n",
    "        cum_true_positives = np.cumsum(true_positives)\n",
    "        cum_false_positives = np.cumsum(false_positives)\n",
    "        precision = cum_true_positives / (cum_true_positives + cum_false_positives)\n",
    "        recall = cum_true_positives / num_annotations\n",
    "\n",
    "        precision = np.concatenate([[0], precision, [0]])\n",
    "        recall = np.concatenate([[0], recall, [1]])\n",
    "\n",
    "        for i in range(len(precision) - 1, 0, -1):\n",
    "            precision[i - 1] = np.maximum(precision[i - 1], precision[i])\n",
    "\n",
    "        indices = np.where(recall[1:] != recall[:-1])[0]\n",
    "        average_precision = np.sum((recall[indices + 1] - recall[indices]) * precision[indices + 1])\n",
    "        average_precisions.append(average_precision)\n",
    "\n",
    "    mAP = np.mean(average_precisions)\n",
    "    return mAP"
   ],
   "metadata": {
    "id": "3BGVH3Ya2SOV"
   },
   "execution_count": 6,
   "outputs": []
  },
  {
   "cell_type": "code",
   "source": [
    "# TODO:  نوشتن تابع ارزیابی مدل با استفاده از معیار های خواسته شده\n",
    "def evaluate_model(model, dataset, iou_threshold=0.5):\n",
    "    \"\"\"\n",
    "    ارزیابی عملکرد مدل بر روی یک مجموعه اعتبارسنجی.\n",
    "\n",
    "    ورودی‌ها:\n",
    "    - model: مدل آموزش دیده.\n",
    "    - dataset: مجموعه داده اعتبارسنجی.\n",
    "\n",
    "    خروجی‌ها:\n",
    "    - metrics: دیکشنری حاوی معیارهای ارزیابی مانند میانگین دقت متوسط (mAP).\n",
    "    \"\"\"\n",
    "    # دانشجویان باید این قسمت را تکمیل کنند\n",
    "    all_detections = []\n",
    "    all_annotations = []\n",
    "    for image_path, ground_truth_boxes, ground_truth_labels in tqdm(dataset):\n",
    "        input_image, _ = preprocess_image(image_path)\n",
    "        input_tensor = tf.convert_to_tensor(input_image)\n",
    "        input_tensor = input_tensor[tf.newaxis, ...]\n",
    "\n",
    "        detections = model(input_tensor)\n",
    "\n",
    "        detection_boxes = detections['detection_boxes'][0].numpy()\n",
    "        detection_scores = detections['detection_scores'][0].numpy()\n",
    "        detection_classes = detections['detection_classes'][0].numpy().astype(int)\n",
    "\n",
    "        filtered_boxes = []\n",
    "        filtered_scores = []\n",
    "        filtered_classes = []\n",
    "        for i in range(len(detection_scores)):\n",
    "            if detection_scores[i] >= iou_threshold:\n",
    "                filtered_boxes.append(detection_boxes[i])\n",
    "                filtered_scores.append(detection_scores[i])\n",
    "                filtered_classes.append(detection_classes[i])\n",
    "\n",
    "        all_detections.append((filtered_boxes, filtered_scores, filtered_classes))\n",
    "        all_annotations.append((ground_truth_boxes, ground_truth_labels))\n",
    "\n",
    "    mAP = compute_map(all_detections, all_annotations, iou_threshold)\n",
    "    return {'mAP': mAP}"
   ],
   "metadata": {
    "id": "q6mLP4cl6Waz"
   },
   "execution_count": 7,
   "outputs": []
  }
 ]
}
