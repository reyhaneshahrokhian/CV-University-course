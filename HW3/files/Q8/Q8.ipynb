{
  "cells": [
    {
      "cell_type": "markdown",
      "metadata": {
        "id": "CoMdo-iuWGMT"
      },
      "source": [
        "# Q8\n",
        "This assignment covers Hough transform."
      ]
    },
    {
      "cell_type": "markdown",
      "metadata": {
        "id": "P_lGEZQ5WGMg"
      },
      "source": [
        "## Lane Detection\n",
        "\n",
        "In this section we will implement a simple lane detection application using Canny edge detector and Hough transform.\n",
        "\n",
        "The algorithm can broken down into the following steps:\n",
        "1. Detect edges using the Canny edge detector.\n",
        "2. Extract the edges in the region of interest (a triangle covering the bottom corners and the center of the image).\n",
        "3. Run Hough transform to detect lanes.\n",
        "\n"
      ]
    },
    {
      "cell_type": "markdown",
      "metadata": {
        "id": "kZMkDKyqWGMg"
      },
      "source": [
        "### 1. Edge detection\n",
        "Lanes on the roads are usually thin and long lines with bright colors. Our edge detection algorithm by itself should be able to find the lanes pretty well. Run the code cell below to load the example image and detect edges from the image.\n",
        "\n",
        "Note : import Canny function which implement in Q5.ipnyb."
      ]
    },
    {
      "cell_type": "code",
      "source": [
        "# Setup\n",
        "import numpy as np\n",
        "import matplotlib.pyplot as plt\n",
        "from time import time\n",
        "from skimage import io\n",
        "\n",
        "from __future__ import print_function\n",
        "\n",
        "%matplotlib inline\n",
        "plt.rcParams['figure.figsize'] = (15.0, 12.0) # set default size of plots\n",
        "plt.rcParams['image.interpolation'] = 'nearest'\n",
        "plt.rcParams['image.cmap'] = 'gray'\n",
        "\n",
        "# for auto-reloading extenrnal modules\n",
        "%load_ext autoreload\n",
        "%autoreload 2"
      ],
      "metadata": {
        "id": "BaB3s1bqY1XR"
      },
      "execution_count": 2,
      "outputs": []
    },
    {
      "cell_type": "code",
      "execution_count": null,
      "metadata": {
        "id": "BjJElzwmWGMg"
      },
      "outputs": [],
      "source": [
        "# import canny from Q5\n",
        "\n",
        "# Load image\n",
        "img = io.imread('road.jpg', as_gray=True)\n",
        "\n",
        "# Run Canny edge detector\n",
        "edges = canny(img, kernel_size=5, sigma=1.4, high=0.03, low=0.02)\n",
        "\n",
        "plt.subplot(211)\n",
        "plt.imshow(img)\n",
        "plt.axis('off')\n",
        "plt.title('Input Image')\n",
        "\n",
        "plt.subplot(212)\n",
        "plt.imshow(edges)\n",
        "plt.axis('off')\n",
        "plt.title('Edges')\n",
        "plt.show()"
      ]
    },
    {
      "cell_type": "markdown",
      "metadata": {
        "id": "16IFgRjnWGMg"
      },
      "source": [
        "### 2. Extracting region of interest (ROI)\n",
        "We can see that the Canny edge detector could find the edges of the lanes. However, we can also see that there are edges of other objects that we are not interested in. Given the position and orientation of the camera, we know that the lanes will be located in the lower half of the image. The code below defines a binary mask for the ROI and extract the edges within the region."
      ]
    },
    {
      "cell_type": "code",
      "execution_count": null,
      "metadata": {
        "id": "c7H9M7-PWGMg"
      },
      "outputs": [],
      "source": [
        "H, W = img.shape\n",
        "# Generate mask for ROI (Region of Interest)\n",
        "mask = np.zeros((H, W))\n",
        "cnt = 0\n",
        "for i in range(H):\n",
        "    for j in range(W):\n",
        "\n",
        "        if i > (float(H) / float(W)) * j and i > -(float(H) / W) * j + H:\n",
        "            cnt += 1\n",
        "            mask[i, j] = 1\n",
        "print (cnt)\n",
        "# Extract edges in ROI\n",
        "roi = edges * mask\n",
        "\n",
        "plt.subplot(1,2,1)\n",
        "plt.imshow(mask)\n",
        "plt.title('Mask')\n",
        "plt.axis('off')\n",
        "\n",
        "plt.subplot(1,2,2)\n",
        "plt.imshow(roi)\n",
        "plt.title('Edges in ROI')\n",
        "plt.axis('off')\n",
        "plt.show()"
      ]
    },
    {
      "cell_type": "markdown",
      "metadata": {
        "id": "rCKgRRkKWGMh"
      },
      "source": [
        "### 3. Fitting lines using Hough transform\n",
        "The output from the edge detector is still a collection of connected points. However, it would be more natural to represent a lane as a line parameterized as $y = ax + b$, with a slope $a$ and y-intercept $b$. We will use Hough transform to find parameterized lines that represent the detected edges.\n",
        "\n",
        "In general, a straight line $y = ax + b$ can be represented as a point $(a, b)$ in the parameter space. However, this cannot represent vertical lines as the slope parameter will be unbounded. Alternatively, we parameterize a line using $\\theta\\in{[-\\pi, \\pi]}$ and $\\rho\\in{\\mathbb{R}}$ as follows:\n",
        "\n",
        "$$\n",
        "\\rho = x\\cdot{cos\\theta} + y\\cdot{sin\\theta}\n",
        "$$\n",
        "\n",
        "Using this parameterization, we can map everypoint in $xy$-space to a sine-like line in $\\theta\\rho$-space (or Hough space). We then accumulate the parameterized points in the Hough space and choose points (in Hough space) with highest accumulated values. A point in Hough space then can be transformed back into a line in $xy$-space.\n",
        "\n",
        "*See [notes](http://web.ipac.caltech.edu/staff/fmasci/home/astro_refs/HoughTrans_lines_09.pdf) on Hough transform.*\n",
        "\n",
        "Implement **`hough_transform`**."
      ]
    },
    {
      "cell_type": "code",
      "source": [
        "def hough_transform(img):\n",
        "    \"\"\" Transform points in the input image into Hough space.\n",
        "\n",
        "    Use the parameterization:\n",
        "        rho = x * cos(theta) + y * sin(theta)\n",
        "    to transform a point (x,y) to a sine-like function in Hough space.\n",
        "\n",
        "    Args:\n",
        "        img: binary image of shape (H, W).\n",
        "\n",
        "    Returns:\n",
        "        accumulator: numpy array of shape (m, n).\n",
        "        rhos: numpy array of shape (m, ).\n",
        "        thetas: numpy array of shape (n, ).\n",
        "    \"\"\"\n",
        "    # Set rho and theta ranges\n",
        "    W, H = img.shape\n",
        "    diag_len = int(np.ceil(np.sqrt(W * W + H * H)))\n",
        "    rhos = np.linspace(-diag_len, diag_len, 2 * diag_len + 1)\n",
        "    thetas = np.deg2rad(np.arange(-90.0, 90.0))\n",
        "\n",
        "    # Cache some reusable values\n",
        "    cos_t = np.cos(thetas)\n",
        "    sin_t = np.sin(thetas)\n",
        "    num_thetas = len(thetas)\n",
        "\n",
        "    # Initialize accumulator in the Hough space\n",
        "    accumulator = np.zeros((2 * diag_len + 1, num_thetas), dtype=np.uint64)\n",
        "    ys, xs = np.nonzero(img)\n",
        "\n",
        "    # Transform each point (x, y) in image\n",
        "    # Find rho corresponding to values in thetas\n",
        "    # and increment the accumulator in the corresponding coordinate.\n",
        "    ### YOUR CODE HERE\n",
        "    ### END YOUR CODE\n",
        "\n",
        "    return accumulator, rhos, thetas"
      ],
      "metadata": {
        "id": "R0Hxld-RaZ2h"
      },
      "execution_count": 20,
      "outputs": []
    },
    {
      "cell_type": "code",
      "execution_count": null,
      "metadata": {
        "id": "o9LWekkSWGMh"
      },
      "outputs": [],
      "source": [
        "# Perform Hough transform on the ROI\n",
        "acc, rhos, thetas = hough_transform(roi)\n",
        "\n",
        "# Coordinates for right lane\n",
        "xs_right = []\n",
        "ys_right = []\n",
        "\n",
        "# Coordinates for left lane\n",
        "xs_left = []\n",
        "ys_left = []\n",
        "\n",
        "for i in range(20):\n",
        "    idx = np.argmax(acc)\n",
        "    r_idx = idx // acc.shape[1]\n",
        "    t_idx = idx % acc.shape[1]\n",
        "    acc[r_idx, t_idx] = 0 # Zero out the max value in accumulator\n",
        "\n",
        "    rho = rhos[r_idx]\n",
        "    theta = thetas[t_idx]\n",
        "\n",
        "    # Transform a point in Hough space to a line in xy-space.\n",
        "    a = - (np.cos(theta)/np.sin(theta)) # slope of the line\n",
        "    b = (rho/np.sin(theta)) # y-intersect of the line\n",
        "\n",
        "    # Break if both right and left lanes are detected\n",
        "    if xs_right and xs_left:\n",
        "        break\n",
        "\n",
        "    if a < 0: # Left lane\n",
        "        if xs_left:\n",
        "            continue\n",
        "        xs = xs_left\n",
        "        ys = ys_left\n",
        "    else: # Right Lane\n",
        "        if xs_right:\n",
        "            continue\n",
        "        xs = xs_right\n",
        "        ys = ys_right\n",
        "\n",
        "    for x in range(img.shape[1]):\n",
        "        y = a * x + b\n",
        "        if y > img.shape[0] * 0.6 and y < img.shape[0]:\n",
        "            xs.append(x)\n",
        "            ys.append(int(round(y)))\n",
        "\n",
        "plt.imshow(img)\n",
        "plt.plot(xs_left, ys_left, linewidth=5.0)\n",
        "plt.plot(xs_right, ys_right, linewidth=5.0)\n",
        "plt.axis('off')\n",
        "plt.show()"
      ]
    }
  ],
  "metadata": {
    "kernelspec": {
      "display_name": "Python 2",
      "language": "python",
      "name": "python2"
    },
    "language_info": {
      "codemirror_mode": {
        "name": "ipython",
        "version": 2
      },
      "file_extension": ".py",
      "mimetype": "text/x-python",
      "name": "python",
      "nbconvert_exporter": "python",
      "pygments_lexer": "ipython2",
      "version": "2.7.14"
    },
    "colab": {
      "provenance": []
    }
  },
  "nbformat": 4,
  "nbformat_minor": 0
}