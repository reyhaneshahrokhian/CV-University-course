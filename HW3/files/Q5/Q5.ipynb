{
  "cells": [
    {
      "cell_type": "markdown",
      "metadata": {
        "id": "ABs83V88LnLN"
      },
      "source": [
        "# Q5\n",
        "\n",
        "This assignment covers Canny edge detector."
      ]
    },
    {
      "cell_type": "code",
      "execution_count": 2,
      "metadata": {
        "colab": {
          "base_uri": "https://localhost:8080/"
        },
        "collapsed": true,
        "id": "DJYezFBZLnLP",
        "outputId": "9581b96a-535e-41e8-e049-6e3b9fa58096"
      },
      "outputs": [
        {
          "name": "stdout",
          "output_type": "stream",
          "text": [
            "The autoreload extension is already loaded. To reload it, use:\n",
            "  %reload_ext autoreload\n"
          ]
        }
      ],
      "source": [
        "# Setup\n",
        "import numpy as np\n",
        "import matplotlib.pyplot as plt\n",
        "from time import time\n",
        "from skimage import io\n",
        "import functools\n",
        "\n",
        "from __future__ import print_function\n",
        "\n",
        "%matplotlib inline\n",
        "plt.rcParams['figure.figsize'] = (15.0, 12.0) # set default size of plots\n",
        "plt.rcParams['image.interpolation'] = 'nearest'\n",
        "plt.rcParams['image.cmap'] = 'gray'\n",
        "\n",
        "# for auto-reloading extenrnal modules\n",
        "%load_ext autoreload\n",
        "%autoreload 2"
      ]
    },
    {
      "cell_type": "markdown",
      "metadata": {
        "collapsed": true,
        "id": "7Pv8L6YqLnLQ"
      },
      "source": [
        "## Part 1: Canny Edge Detector\n",
        "In this part, you are going to implment Canny edge detector. The Canny edge detection algorithm can be broken down in to five steps:\n",
        "1. Smoothing\n",
        "2. Finding gradients\n",
        "3. Non-maximum suppression\n",
        "4. Double thresholding\n",
        "5. Edge tracking by hysterisis"
      ]
    },
    {
      "cell_type": "markdown",
      "metadata": {
        "id": "07sTdMoVLnLR"
      },
      "source": [
        "### 1.1 Smoothing\n",
        "#### Implementation\n",
        "We first smooth the input image by convolving it with a Gaussian kernel. The equation for a Gaussian kernel of size $(2k+1)\\times(2k+1)$ is given by:\n",
        "\n",
        "$$h_{ij}=\\frac{1}{2\\pi\\sigma^2}\\exp{\\Bigl(-\\frac{(i-k)^2+(j-k)^2}{2\\sigma^2}\\Bigr)}, 0\\leq i,j < 2k+1$$\n",
        "\n",
        "Implement **`conv`** and **`gaussian_kernel`**  and run the code below."
      ]
    },
    {
      "cell_type": "code",
      "execution_count": 32,
      "metadata": {
        "id": "-LteGWaeMaOB"
      },
      "outputs": [],
      "source": [
        "def conv(image, kernel):\n",
        "    \"\"\" An implementation of convolution filter.\n",
        "\n",
        "    This function uses element-wise multiplication and np.sum()\n",
        "    to efficiently compute weighted sum of neighborhood at each\n",
        "    pixel.\n",
        "\n",
        "    Args:\n",
        "        image: numpy array of shape (Hi, Wi)\n",
        "        kernel: numpy array of shape (Hk, Wk)\n",
        "\n",
        "    Returns:\n",
        "        out: numpy array of shape (Hi, Wi)\n",
        "    \"\"\"\n",
        "    Hi, Wi = image.shape\n",
        "    Hk, Wk = kernel.shape\n",
        "    out = np.zeros((Hi, Wi))\n",
        "\n",
        "    # For this assignment, we will use edge values to pad the images.\n",
        "    # Zero padding will make derivatives at the image boundary very big,\n",
        "    # whereas we want to ignore the edges at the boundary.\n",
        "    pad_width0 = Hk // 2\n",
        "    pad_width1 = Wk // 2\n",
        "    pad_width = ((pad_width0,pad_width0),(pad_width1,pad_width1))\n",
        "    padded = np.pad(image, pad_width, mode='edge')\n",
        "\n",
        "\n",
        "    ### YOUR CODE HERE\n",
        "    ### END YOUR CODE\n",
        "\n",
        "    return out"
      ]
    },
    {
      "cell_type": "code",
      "execution_count": 4,
      "metadata": {
        "id": "AtayW68xMohK"
      },
      "outputs": [],
      "source": [
        "def gaussian_kernel(size, sigma):\n",
        "    \"\"\" Implementation of Gaussian Kernel.\n",
        "\n",
        "    This function follows the gaussian filter_values formula,\n",
        "    and creates a filter_values matrix.\n",
        "\n",
        "    Hints:\n",
        "    - Use np.pi and np.exp to compute pi and exp\n",
        "\n",
        "    Args:\n",
        "        size: int of the size of output matrix\n",
        "        sigma: float of sigma to calculate filter_values\n",
        "\n",
        "    Returns:\n",
        "        filter_values: numpy array of shape (size, size)\n",
        "    \"\"\"\n",
        "\n",
        "    filter_values = np.zeros((size, size))\n",
        "    delta = (size-1) / 2\n",
        "\n",
        "    ### YOUR CODE HERE\n",
        "    ### END YOUR CODE\n",
        "\n",
        "    return filter_values"
      ]
    },
    {
      "cell_type": "code",
      "execution_count": 8,
      "metadata": {
        "collapsed": true,
        "id": "yoRMXYz7LnLR"
      },
      "outputs": [],
      "source": [
        "# Define 3x3 Gaussian kernel with std = 1\n",
        "kernel = gaussian_kernel(3, 1)\n",
        "kernel_test = np.array(\n",
        "    [[ 0.05854983, 0.09653235, 0.05854983],\n",
        "     [ 0.09653235, 0.15915494, 0.09653235],\n",
        "     [ 0.05854983, 0.09653235, 0.05854983]]\n",
        ")\n",
        "\n",
        "# Test Gaussian kernel\n",
        "if not np.allclose(kernel, kernel_test):\n",
        "    print('Incorrect values! Please check your implementation.')"
      ]
    },
    {
      "cell_type": "code",
      "execution_count": null,
      "metadata": {
        "colab": {
          "base_uri": "https://localhost:8080/",
          "height": 457
        },
        "id": "0Cq9mjgZLnLR",
        "outputId": "b4d1b0e8-eebe-4089-a550-7b1101555307"
      },
      "outputs": [],
      "source": [
        "# Test with different kernel_size and sigma\n",
        "kernel_size = 3\n",
        "sigma = 1.2\n",
        "\n",
        "# Load image\n",
        "img = io.imread('iguana.png', as_gray=True)\n",
        "\n",
        "# Define 5x5 Gaussian kernel with std = sigma\n",
        "kernel = gaussian_kernel(kernel_size, sigma)\n",
        "# Convolve image with kernel to achieve smoothed effect\n",
        "smoothed = conv(img, kernel)\n",
        "\n",
        "plt.subplot(1,2,1)\n",
        "plt.imshow(img)\n",
        "plt.title('Original image')\n",
        "plt.axis('off')\n",
        "\n",
        "plt.subplot(1,2,2)\n",
        "plt.imshow(smoothed)\n",
        "plt.title('Smoothed image')\n",
        "plt.axis('off')\n",
        "\n",
        "plt.show()\n",
        "\n"
      ]
    },
    {
      "cell_type": "markdown",
      "metadata": {
        "collapsed": true,
        "id": "dbMqfh02LnLS"
      },
      "source": [
        "### 1.2 Finding gradients\n",
        "\n",
        "1.   List item\n",
        "2.   List item\n",
        "\n",
        "\n",
        "The gradient of a 2D scalar function $I:\\mathbb{R}^2\\rightarrow{\\mathbb{R}}$ in Cartesian coordinate is defined by:\n",
        "\n",
        "$$\\nabla{I(x,y)}=\\bigl[\\frac{\\partial{I}}{\\partial{x}},\\frac{\\partial{I}}{\\partial{y}}\\bigr],$$\n",
        "\n",
        "where\n",
        "\n",
        "$$\n",
        "\\frac{\\partial{I(x,y)}}{\\partial{x}}=\\lim_{\\Delta{x}\\to{0}}\\frac{I(x+\\Delta{x},y)-I(x,y)}{\\Delta{x}} \\\\\n",
        "\\frac{\\partial{I(x,y)}}{\\partial{y}}=\\lim_{\\Delta{y}\\to{0}}\\frac{I(x,y+\\Delta{y})-I(x,y)}{\\Delta{y}}.\n",
        "$$\n",
        "\n",
        "In case of images, we can approximate the partial derivatives by taking differences at one pixel intervals:\n",
        "\n",
        "$$\n",
        "\\frac{\\partial{I(x,y)}}{\\partial{x}}\\approx{\\frac{I(x+1,y)-I(x-1,y)}{2}} \\\\\n",
        "\\frac{\\partial{I(x,y)}}{\\partial{y}}\\approx{\\frac{I(x,y+1)-I(x,y-1)}{2}}\n",
        "$$\n",
        "\n",
        "Note that the partial derivatives can be computed by convolving the image $I$ with some appropriate kernels $D_x$ and $D_y$:\n",
        "\n",
        "$$\n",
        "\\frac{\\partial{I}}{\\partial{x}}\\approx{I*D_x}=G_x \\\\\n",
        "\\frac{\\partial{I}}{\\partial{y}}\\approx{I*D_y}=G_y\n",
        "$$"
      ]
    },
    {
      "cell_type": "markdown",
      "metadata": {
        "id": "TMdcGt5ULnLS"
      },
      "source": [
        "#### Implementation\n",
        "Find the kernels $D_x$ and $D_y$ and implement **`partial_x`** and **`partial_y`** using `conv` defined earlier.\n",
        "\n",
        "*-Hint: Remeber that convolution flips the kernel.*"
      ]
    },
    {
      "cell_type": "code",
      "execution_count": 5,
      "metadata": {
        "id": "OAC3p5mwMuR3"
      },
      "outputs": [],
      "source": [
        "def partial_x(img):\n",
        "    \"\"\" Computes partial x-derivative of input img.\n",
        "\n",
        "    Hints:\n",
        "        - You may use the conv function in defined in this file.\n",
        "\n",
        "    Args:\n",
        "        img: numpy array of shape (H, W)\n",
        "    Returns:\n",
        "        out: x-derivative image\n",
        "    \"\"\"\n",
        "\n",
        "    out = None\n",
        "\n",
        "    ### YOUR CODE HERE\n",
        "    ### END YOUR CODE\n",
        "\n",
        "    return out\n"
      ]
    },
    {
      "cell_type": "code",
      "execution_count": 6,
      "metadata": {
        "id": "tBalplr6Myuw"
      },
      "outputs": [],
      "source": [
        "def partial_y(img):\n",
        "    \"\"\" Computes partial y-derivative of input img.\n",
        "\n",
        "    Hints:\n",
        "        - You may use the conv function in defined in this file.\n",
        "\n",
        "    Args:\n",
        "        img: numpy array of shape (H, W)\n",
        "    Returns:\n",
        "        out: y-derivative image\n",
        "    \"\"\"\n",
        "\n",
        "    out = None\n",
        "\n",
        "    ### YOUR CODE HERE\n",
        "    ### END YOUR CODE\n",
        "\n",
        "    return out"
      ]
    },
    {
      "cell_type": "code",
      "execution_count": 13,
      "metadata": {
        "collapsed": true,
        "id": "4fp8Xo83LnLT"
      },
      "outputs": [],
      "source": [
        "# Test input\n",
        "I = np.array(\n",
        "    [[0, 0, 0],\n",
        "     [0, 1, 0],\n",
        "     [0, 0, 0]]\n",
        ")\n",
        "\n",
        "# Expected outputs\n",
        "I_x_test = np.array(\n",
        "    [[ 0, 0, 0],\n",
        "     [ 0.5, 0, -0.5],\n",
        "     [ 0, 0, 0]]\n",
        ")\n",
        "\n",
        "I_y_test = np.array(\n",
        "    [[ 0, 0.5, 0],\n",
        "     [ 0, 0, 0],\n",
        "     [ 0, -0.5, 0]]\n",
        ")\n",
        "\n",
        "# Compute partial derivatives\n",
        "I_x = partial_x(I)\n",
        "I_y = partial_y(I)\n",
        "\n",
        "# Test correctness of partial_x and partial_y\n",
        "if not np.all(I_x == I_x_test):\n",
        "    print('partial_x incorrect')\n",
        "\n",
        "if not np.all(I_y == I_y_test):\n",
        "    print('partial_y incorrect')"
      ]
    },
    {
      "cell_type": "code",
      "execution_count": null,
      "metadata": {
        "colab": {
          "base_uri": "https://localhost:8080/",
          "height": 887
        },
        "id": "lU032xnALnLT",
        "outputId": "97544019-8014-4875-c1a8-8bb0bef2bcca"
      },
      "outputs": [],
      "source": [
        "# Compute partial derivatives of smoothed image\n",
        "Gx = partial_x(smoothed)\n",
        "Gy = partial_y(smoothed)\n",
        "img_Gx = partial_x(img)\n",
        "img_Gy = partial_y(img)\n",
        "\n",
        "plt.subplot(2,2,1)\n",
        "plt.imshow(Gx)\n",
        "plt.title('Derivative in x direction')\n",
        "plt.axis('off')\n",
        "\n",
        "plt.subplot(2,2,2)\n",
        "plt.imshow(Gy)\n",
        "plt.title('Derivative in y direction')\n",
        "plt.axis('off')\n",
        "\n",
        "plt.subplot(2,2,3)\n",
        "plt.imshow(img_Gx)\n",
        "plt.title('Original image - Derivative in x direction')\n",
        "plt.axis('off')\n",
        "\n",
        "plt.subplot(2,2,4)\n",
        "plt.imshow(img_Gy)\n",
        "plt.title('Original image - Derivative in y direction')\n",
        "plt.axis('off')\n",
        "\n",
        "plt.show()"
      ]
    },
    {
      "cell_type": "markdown",
      "metadata": {
        "id": "D54pT8rTLnLT"
      },
      "source": [
        "#### Implementation\n",
        "Now, we can compute the magnitude and direction of gradient with the two partial derivatives:\n",
        "\n",
        "$$\n",
        "G = \\sqrt{G_{x}^{2}+G_{y}^{2}} \\\\\n",
        "\\Theta = arctan\\bigl(\\frac{G_{y}}{G_{x}}\\bigr)\n",
        "$$\n",
        "\n",
        "Implement **`gradient`**  which takes in an image and outputs $G$ and $\\Theta$.\n",
        "\n",
        "*-Hint: Use np.arctan2 to compute $\\Theta$.*"
      ]
    },
    {
      "cell_type": "code",
      "execution_count": 15,
      "metadata": {
        "id": "eUq-8M8TOIub"
      },
      "outputs": [],
      "source": [
        "def gradient(img):\n",
        "    \"\"\" Returns gradient magnitude and direction of input img.\n",
        "\n",
        "    Args:\n",
        "        img: Grayscale image. Numpy array of shape (H, W)\n",
        "\n",
        "    Returns:\n",
        "        G: Magnitude of gradient at each pixel in img.\n",
        "            Numpy array of shape (H, W)\n",
        "        theta: Direction(in degrees, 0 <= theta < 360) of gradient\n",
        "            at each pixel in img. Numpy array of shape (H, W)\n",
        "    \"\"\"\n",
        "    G = np.zeros(img.shape)\n",
        "    theta = np.zeros(img.shape)\n",
        "\n",
        "    ### YOUR CODE HERE\n",
        "    ### END YOUR CODE\n",
        "\n",
        "    return G, theta"
      ]
    },
    {
      "cell_type": "code",
      "execution_count": null,
      "metadata": {
        "colab": {
          "base_uri": "https://localhost:8080/",
          "height": 840
        },
        "id": "BMgbnM87LnLT",
        "outputId": "a8572ca8-c2d0-49be-a296-440436c42b85"
      },
      "outputs": [],
      "source": [
        "G, theta = gradient(smoothed)\n",
        "\n",
        "if not np.all(G >= 0):\n",
        "    print('Magnitude of gradients should be non-negative.')\n",
        "\n",
        "if not np.all((theta >= 0) * (theta <= 360)):\n",
        "    print('Direction of gradients should be in range 0 <= theta < 360')\n",
        "\n",
        "plt.imshow(G)\n",
        "plt.title('Gradient magnitude')\n",
        "plt.axis('off')\n",
        "plt.show()"
      ]
    },
    {
      "cell_type": "markdown",
      "metadata": {
        "id": "2BHeVlA5LnLU"
      },
      "source": [
        "### 1.3 Non-maximum suppression\n",
        "You should be able to note that the edges extracted from the gradient of the smoothed image is quite thick and blurry. The purpose of this step is to convert the \"blurred\" edges into \"sharp\" edges. Basically, this is done by preserving all local maxima in the gradient image and discarding everything else. The algorithm is for each pixel (x,y) in the gradient image:\n",
        "1. Round the gradient direction $\\Theta[y,x]$ to the nearest 45 degrees, corresponding to the use of an 8-connected neighbourhood.\n",
        "\n",
        "2. Compare the edge strength of the current pixel with the edge strength of the pixel in the positive and negative gradient direction. For example, if the gradient direction is south (theta=90), compare with the pixels to the north and south.\n",
        "\n",
        "3. If the edge strength of the current pixel is the largest; preserve the value of the edge strength. If not, suppress (i.e. remove) the value.\n",
        "\n",
        "Implement **`non_maximum_suppression`**."
      ]
    },
    {
      "cell_type": "code",
      "execution_count": 17,
      "metadata": {
        "id": "pXvn-Tj2Omwa"
      },
      "outputs": [],
      "source": [
        "def non_maximum_suppression(G, theta):\n",
        "    \"\"\" Performs non-maximum suppression\n",
        "\n",
        "    This function performs non-maximum suppression along the direction\n",
        "    of gradient (theta) on the gradient magnitude image (G).\n",
        "\n",
        "    Args:\n",
        "        G: gradient magnitude image with shape of (H, W)\n",
        "        theta: direction of gradients with shape of (H, W)\n",
        "\n",
        "    Returns:\n",
        "        out: non-maxima suppressed image\n",
        "    \"\"\"\n",
        "    H, W = G.shape\n",
        "    out = np.zeros((H, W))\n",
        "\n",
        "    # Round the gradient direction to the nearest 45 degrees\n",
        "    theta = np.floor((theta + 22.5) / 45) * 45\n",
        "\n",
        "    ### BEGIN YOUR CODE\n",
        "    ### END YOUR CODE\n",
        "\n",
        "    return out\n"
      ]
    },
    {
      "cell_type": "code",
      "execution_count": 18,
      "metadata": {
        "colab": {
          "base_uri": "https://localhost:8080/"
        },
        "id": "ugLFJMkwLnLU",
        "outputId": "4f95d04c-5474-4ee7-aa3f-362a700cf2d2"
      },
      "outputs": [
        {
          "name": "stdout",
          "output_type": "stream",
          "text": [
            "Thetas: 0\n",
            "[[0. 0. 0.]\n",
            " [0. 0. 0.]\n",
            " [0. 0. 0.]]\n",
            "Thetas: 45\n",
            "[[0. 0. 0.]\n",
            " [0. 0. 0.]\n",
            " [0. 0. 0.]]\n",
            "Thetas: 90\n",
            "[[0.  0.  0. ]\n",
            " [0.  0.5 0. ]\n",
            " [0.  0.  0. ]]\n",
            "Thetas: 135\n",
            "[[0. 0. 0.]\n",
            " [0. 0. 0.]\n",
            " [0. 0. 0.]]\n"
          ]
        }
      ],
      "source": [
        "# Test input\n",
        "g = np.array(\n",
        "    [[0.4, 0.5, 0.6],\n",
        "     [0.3, 0.5, 0.7],\n",
        "     [0.4, 0.5, 0.6]]\n",
        ")\n",
        "\n",
        "# Print out non-maximum suppressed output\n",
        "# varying theta\n",
        "for angle in range(0, 180, 45):\n",
        "    print('Thetas:', angle)\n",
        "    t = np.ones((3, 3)) * angle # Initialize theta\n",
        "    print(non_maximum_suppression(g, t))"
      ]
    },
    {
      "cell_type": "code",
      "execution_count": null,
      "metadata": {
        "colab": {
          "base_uri": "https://localhost:8080/",
          "height": 840
        },
        "id": "Eg0PRy-eLnLU",
        "outputId": "b718a316-701e-46b9-be05-75fa74abc7b3"
      },
      "outputs": [],
      "source": [
        "nms = non_maximum_suppression(G, theta)\n",
        "plt.imshow(nms)\n",
        "plt.title('Non-maximum suppressed')\n",
        "plt.axis('off')\n",
        "plt.show()"
      ]
    },
    {
      "cell_type": "markdown",
      "metadata": {
        "id": "I7X5omC1LnLU"
      },
      "source": [
        "### 1.4 Double Thresholding\n",
        "\n",
        "The edge-pixels remaining after the non-maximum suppression step are (still) marked with their strength pixel-by-pixel. Many of these will probably be true edges in the image, but some may be caused by noise or color variations, for instance, due to rough surfaces. The simplest way to discern between these would be to use a threshold, so that only edges stronger that a certain value would be preserved. The Canny edge detection algorithm uses double thresholding. Edge pixels stronger than the high threshold are marked as strong; edge pixels weaker than the low threshold are suppressed and edge pixels between the two thresholds are marked as weak.\n",
        "\n",
        "Implement **`double_thresholding`**."
      ]
    },
    {
      "cell_type": "code",
      "execution_count": 20,
      "metadata": {
        "id": "CCLIevbkPFFT"
      },
      "outputs": [],
      "source": [
        "def double_thresholding(img, high, low):\n",
        "    \"\"\"\n",
        "    Args:\n",
        "        img: numpy array of shape (H, W) representing NMS edge response\n",
        "        high: high threshold(float) for strong edges\n",
        "        low: low threshold(float) for weak edges\n",
        "\n",
        "    Returns:\n",
        "        strong_edges: Boolean array representing strong edges.\n",
        "            Strong edeges are the pixels with the values above\n",
        "            the higher threshold.\n",
        "        weak_edges: Boolean array representing weak edges.\n",
        "            Weak edges are the pixels with the values below the\n",
        "            higher threshould and above the lower threshold.\n",
        "    \"\"\"\n",
        "\n",
        "    strong_edges = np.zeros(img.shape)\n",
        "    weak_edges = np.zeros(img.shape)\n",
        "\n",
        "    ### YOUR CODE HERE\n",
        "    ### END YOUR CODE\n",
        "\n",
        "    return strong_edges, weak_edges\n"
      ]
    },
    {
      "cell_type": "code",
      "execution_count": null,
      "metadata": {
        "colab": {
          "base_uri": "https://localhost:8080/",
          "height": 412
        },
        "id": "eyTkHzUDLnLU",
        "outputId": "602a4ee6-d67b-4d8d-9cff-e41d4776ec12"
      },
      "outputs": [],
      "source": [
        "low_threshold = 0.02\n",
        "high_threshold = 0.03\n",
        "\n",
        "strong_edges, weak_edges = double_thresholding(nms, high_threshold, low_threshold)\n",
        "assert(np.sum(strong_edges & weak_edges) == 0)\n",
        "\n",
        "edges=strong_edges * 1.0 + weak_edges * 0.5\n",
        "\n",
        "plt.subplot(1,2,1)\n",
        "plt.imshow(strong_edges)\n",
        "plt.title('Strong Edges')\n",
        "plt.axis('off')\n",
        "\n",
        "plt.subplot(1,2,2)\n",
        "plt.imshow(edges)\n",
        "plt.title('Strong+Weak Edges')\n",
        "plt.axis('off')\n",
        "\n",
        "plt.show()"
      ]
    },
    {
      "cell_type": "markdown",
      "metadata": {
        "id": "diCt0U2aLnLV"
      },
      "source": [
        "### 1.5 Edge tracking\n",
        "\n",
        "Strong edges are interpreted as “certain edges”, and can immediately be included in the final edge image. Weak edges are included if and only if they are connected to strong edges. The logic is of course that noise and other small variations are unlikely to result in a strong edge (with proper adjustment of the threshold levels). Thus strong edges will (almost) only be due to true edges in the original image. The weak edges can either be due to true edges or noise/color variations. The latter type will probably be distributed in dependently of edges on the entire image, and thus only a small amount will be located adjacent to strong edges. Weak edges due to true edges are much more likely to be connected directly to strong edges.\n",
        "\n",
        "Implement **`link_edges`**."
      ]
    },
    {
      "cell_type": "code",
      "execution_count": 22,
      "metadata": {
        "id": "Tf8Ge5pUP2Sl"
      },
      "outputs": [],
      "source": [
        "def get_neighbors(y, x, H, W):\n",
        "    \"\"\" Return indices of valid neighbors of (y, x)\n",
        "\n",
        "    Return indices of all the valid neighbors of (y, x) in an array of\n",
        "    shape (H, W). An index (i, j) of a valid neighbor should satisfy\n",
        "    the following:\n",
        "        1. i >= 0 and i < H\n",
        "        2. j >= 0 and j < W\n",
        "        3. (i, j) != (y, x)\n",
        "\n",
        "    Args:\n",
        "        y, x: location of the pixel\n",
        "        H, W: size of the image\n",
        "    Returns:\n",
        "        neighbors: list of indices of neighboring pixels [(i, j)]\n",
        "    \"\"\"\n",
        "    neighbors = []\n",
        "\n",
        "    ### YOUR CODE HERE\n",
        "    ### END YOUR CODE\n",
        "\n",
        "    return neighbors"
      ]
    },
    {
      "cell_type": "code",
      "execution_count": 23,
      "metadata": {
        "id": "Dq4Vv0qXP6lU"
      },
      "outputs": [],
      "source": [
        "def link_edges(strong_edges, weak_edges):\n",
        "    \"\"\" Find weak edges connected to strong edges and link them.\n",
        "\n",
        "    Iterate over each pixel in strong_edges and perform breadth first\n",
        "    search across the connected pixels in weak_edges to link them.\n",
        "    Here we consider a pixel (a, b) is connected to a pixel (c, d)\n",
        "    if (a, b) is one of the eight neighboring pixels of (c, d).\n",
        "\n",
        "    Args:\n",
        "        strong_edges: binary image of shape (H, W)\n",
        "        weak_edges: binary image of shape (H, W)\n",
        "    Returns:\n",
        "        edges: numpy array of shape(H, W)\n",
        "    \"\"\"\n",
        "\n",
        "    H, W = strong_edges.shape\n",
        "    indices = np.stack(np.nonzero(strong_edges)).T\n",
        "    edges = np.zeros((H, W))\n",
        "    ### YOUR CODE HERE\n",
        "    ### END YOUR CODE\n",
        "\n",
        "    return edges"
      ]
    },
    {
      "cell_type": "code",
      "execution_count": null,
      "metadata": {
        "colab": {
          "base_uri": "https://localhost:8080/",
          "height": 383
        },
        "id": "uW-m6UxyLnLV",
        "outputId": "baf41218-17bf-4dca-f3f9-4c5f09a89c38"
      },
      "outputs": [],
      "source": [
        "test_strong = np.array(\n",
        "    [[1, 0, 0, 0],\n",
        "     [0, 0, 0, 0],\n",
        "     [0, 0, 0, 0],\n",
        "     [0, 0, 0, 1]]\n",
        ")\n",
        "\n",
        "test_weak = np.array(\n",
        "    [[0, 0, 0, 1],\n",
        "     [0, 1, 0, 0],\n",
        "     [1, 0, 0, 0],\n",
        "     [0, 0, 1, 0]]\n",
        ")\n",
        "\n",
        "test_linked = link_edges(test_strong, test_weak)\n",
        "\n",
        "plt.subplot(1, 3, 1)\n",
        "plt.imshow(test_strong)\n",
        "plt.title('Strong edges')\n",
        "\n",
        "plt.subplot(1, 3, 2)\n",
        "plt.imshow(test_weak)\n",
        "plt.title('Weak edges')\n",
        "\n",
        "plt.subplot(1, 3, 3)\n",
        "plt.imshow(test_linked)\n",
        "plt.title('Linked edges')\n",
        "plt.show()"
      ]
    },
    {
      "cell_type": "code",
      "execution_count": null,
      "metadata": {
        "colab": {
          "base_uri": "https://localhost:8080/",
          "height": 819
        },
        "id": "wpArEh1XLnLW",
        "outputId": "90a44e08-6f75-447d-c0a4-ab1fb4694cd8"
      },
      "outputs": [],
      "source": [
        "edges = link_edges(strong_edges, weak_edges)\n",
        "\n",
        "plt.imshow(edges)\n",
        "plt.axis('off')\n",
        "plt.show()"
      ]
    },
    {
      "cell_type": "markdown",
      "metadata": {
        "id": "fXZk81rgLnLW"
      },
      "source": [
        "### 1.6 Canny edge detector\n",
        "Implement **`canny`** using the functions you have implemented so far. Test edge detector with different parameters.\n"
      ]
    },
    {
      "cell_type": "code",
      "execution_count": 26,
      "metadata": {
        "id": "OeFW-dw6QKwl"
      },
      "outputs": [],
      "source": [
        "def canny(img, kernel_size=5, sigma=1.4, high=20, low=15):\n",
        "    \"\"\" Implement canny edge detector by calling functions above.\n",
        "\n",
        "    Args:\n",
        "        img: binary image of shape (H, W)\n",
        "        kernel_size: int of size for kernel matrix\n",
        "        sigma: float for calculating kernel\n",
        "        high: high threshold for strong edges\n",
        "        low: low threashold for weak edges\n",
        "    Returns:\n",
        "        edge: numpy array of shape(H, W)\n",
        "    \"\"\"\n",
        "    ### YOUR CODE HERE\n",
        "    ### END YOUR CODE\n",
        "\n",
        "    return edge"
      ]
    },
    {
      "cell_type": "code",
      "execution_count": 29,
      "metadata": {
        "colab": {
          "base_uri": "https://localhost:8080/",
          "height": 836
        },
        "id": "vUgM5rLmLnLX",
        "outputId": "69322240-af45-42fd-f036-69d159988a0c"
      },
      "outputs": [
        {
          "name": "stdout",
          "output_type": "stream",
          "text": [
            "(310, 433)\n"
          ]
        },
        {
          "data": {
            "image/png": "[encoded data removed]",
            "text/plain": [
              "<Figure size 1500x1200 with 1 Axes>"
            ]
          },
          "metadata": {},
          "output_type": "display_data"
        }
      ],
      "source": [
        "# Load image\n",
        "img = io.imread('iguana.png', as_gray=True)\n",
        "\n",
        "# Run Canny edge detector\n",
        "edges = canny(img, kernel_size=5, sigma=1.4, high=0.03, low=0.02)\n",
        "print (edges.shape)\n",
        "plt.imshow(edges)\n",
        "plt.axis('off')\n",
        "plt.show()"
      ]
    }
  ],
  "metadata": {
    "colab": {
      "provenance": []
    },
    "kernelspec": {
      "display_name": "Python 2",
      "language": "python",
      "name": "python2"
    },
    "language_info": {
      "codemirror_mode": {
        "name": "ipython",
        "version": 2
      },
      "file_extension": ".py",
      "mimetype": "text/x-python",
      "name": "python",
      "nbconvert_exporter": "python",
      "pygments_lexer": "ipython2",
      "version": "2.7.14"
    }
  },
  "nbformat": 4,
  "nbformat_minor": 0
}
