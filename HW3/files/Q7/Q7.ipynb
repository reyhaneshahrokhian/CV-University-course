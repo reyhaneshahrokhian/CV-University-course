{
 "cells": [
  {
   "cell_type": "markdown",
   "metadata": {
    "id": "rGJrH6IUc7Gt"
   },
   "source": [
    "Import some prerequisites"
   ]
  },
  {
   "cell_type": "code",
   "execution_count": 14,
   "metadata": {
    "id": "8Na-tabYc7Gu",
    "scrolled": true
   },
   "outputs": [],
   "source": [
    "import cv2\n",
    "import numpy as np\n",
    "import matplotlib.pyplot as plt\n",
    "import os\n",
    "import random\n",
    "import math"
   ]
  },
  {
   "cell_type": "markdown",
   "metadata": {
    "id": "LOfgbh_rc7G0"
   },
   "source": [
    "Run this cell for plotting"
   ]
  },
  {
   "cell_type": "code",
   "execution_count": 15,
   "metadata": {
    "id": "jC7p5Ws4c7G1"
   },
   "outputs": [],
   "source": [
    "def plotter(img_list, r, w, gray, wr, hr, fig_name = None):\n",
    "    '''\n",
    "    Plots images' list with its' caption and saves result image if you want.\n",
    "\n",
    "    Parameters:\n",
    "        img_list (list): The list of tuples of image and its' caption.\n",
    "        r (int): The number of row(s).\n",
    "        w (int): The number of colunm(s).\n",
    "        gray (bool): The flag for plotting images in grayscale mode.\n",
    "        wr (int): The width of one figure.\n",
    "        hr (int): The height of one figure.\n",
    "        fig_name (str): The name of the image of the plot. if not set this parameter the plot doesn't save.\n",
    "    '''\n",
    "    \n",
    "    plt.rcParams['figure.figsize'] = (wr, hr)\n",
    "    for i in range(len(img_list)):\n",
    "        plt.subplot(r, w, i + 1)\n",
    "        if img_list[i][2] == 'img':\n",
    "            if gray:\n",
    "                plt.imshow(img_list[i][0], cmap = 'gray')\n",
    "            else:\n",
    "                plt.imshow(img_list[i][0])\n",
    "            plt.xticks([])\n",
    "            plt.yticks([])\n",
    "        elif img_list[i][2] == 'hist':\n",
    "            plt.bar(np.arange(len(img_list[i][0])), img_list[i][0], color = 'c')\n",
    "        else:\n",
    "            raise Exception(\"Only image or histogram. Use third parameter of tuples in img_list and set it to img or hist.\")\n",
    "        plt.title(img_list[i][1])\n",
    "    if fig_name is not None:\n",
    "        plt.savefig(fig_name + '.png')\n",
    "    plt.show()"
   ]
  },
  {
   "cell_type": "markdown",
   "metadata": {
    "id": "NklOzP8MUk42"
   },
   "source": [
    "Run this cell for change polar to cartesian."
   ]
  },
  {
   "cell_type": "code",
   "execution_count": 16,
   "metadata": {
    "id": "ne9eujmEUk43"
   },
   "outputs": [],
   "source": [
    "def pol_to_car(rho, theta):\n",
    "    '''\n",
    "    Changes rho and theta of a line to two point of that line.\n",
    "    \n",
    "    Parameters:\n",
    "        rho (float): The distance from the origin to the line.\n",
    "        theta (float):  Angle from origin to the line.\n",
    "    \n",
    "    Returns:\n",
    "        (tuple): tuple of two point of line.\n",
    "    '''\n",
    "    \n",
    "    a = np.cos(theta)\n",
    "    b = np.sin(theta)\n",
    "    c = 1000\n",
    "    x0 = a*rho\n",
    "    y0 = b*rho\n",
    "    x1 = int(x0 + c * (-b))\n",
    "    y1 = int(y0 + c * (a))\n",
    "    x2 = int(x0 - c * (-b))\n",
    "    y2 = int(y0 - c * (a))\n",
    "    return x1, y1, x2, y2"
   ]
  },
  {
   "cell_type": "markdown",
   "metadata": {},
   "source": [
    "# part b\n"
   ]
  },
  {
   "cell_type": "markdown",
   "metadata": {
    "id": "e-bo_k2oc7HE"
   },
   "source": [
    "Implement this function to detect and remove circles in the given image."
   ]
  },
  {
   "cell_type": "code",
   "execution_count": 17,
   "metadata": {
    "id": "J_ZjoOBEc7HF"
   },
   "outputs": [],
   "source": [
    "def remove_circles(image):\n",
    "    '''\n",
    "    Returns the image which circles have been removed.\n",
    "    \n",
    "    Parameters:\n",
    "        image (numpy.ndarray): The input image.\n",
    "    \n",
    "    Returns:\n",
    "        out_img (numpy.ndarray): The result image.\n",
    "    '''\n",
    "    out_img = image.copy()\n",
    "    \n",
    "    #Writer your code here\n",
    "\n",
    "\n",
    "    return out_img"
   ]
  },
  {
   "cell_type": "markdown",
   "metadata": {
    "id": "bqbQ48lUc7HJ"
   },
   "source": [
    "Test your implementation (dont change this cell)"
   ]
  },
  {
   "cell_type": "code",
   "execution_count": null,
   "metadata": {
    "id": "j5axH0Y0c7HK"
   },
   "outputs": [],
   "source": [
    "image_list = []\n",
    "\n",
    "image = cv2.imread(os.path.join('images', '1.png'))\n",
    "image_list.append([cv2.cvtColor(image, cv2.COLOR_BGR2RGB), 'source', 'img'])\n",
    "\n",
    "out_img = remove_circles(image)\n",
    "\n",
    "image_list.append([cv2.cvtColor(out_img, cv2.COLOR_BGR2RGB), 'detect circles', 'img'])\n",
    "\n",
    "plotter(image_list, 1, 2, True, 20, 10, 'q4a')"
   ]
  },
  {
   "cell_type": "markdown",
   "metadata": {},
   "source": [
    "# part c"
   ]
  },
  {
   "cell_type": "markdown",
   "metadata": {
    "id": "tr0PgfbtiPlN"
   },
   "source": [
    "Implement this function to detect lines in the given image with hough algorithm."
   ]
  },
  {
   "cell_type": "code",
   "execution_count": 19,
   "metadata": {
    "id": "srCRUl_riPlR"
   },
   "outputs": [],
   "source": [
    "def detect_lines_hough(image):\n",
    "    '''\n",
    "    Returns the image which lines have been detected.\n",
    "    \n",
    "    Parameters:\n",
    "        image (numpy.ndarray): The input image.\n",
    "        \n",
    "    Returns:\n",
    "        out_img (numpy.ndarray): The result image.\n",
    "    '''\n",
    "    out_img = image.copy()\n",
    "    \n",
    "    #Writer your code here\n",
    "\n",
    "    return out_img"
   ]
  },
  {
   "cell_type": "markdown",
   "metadata": {
    "id": "bqbQ48lUc7HJ"
   },
   "source": [
    "Test your implementation (dont change this cell)"
   ]
  },
  {
   "cell_type": "code",
   "execution_count": null,
   "metadata": {
    "id": "j5axH0Y0c7HK"
   },
   "outputs": [],
   "source": [
    "image_list = []\n",
    "\n",
    "image = cv2.imread(os.path.join('images', '1b.png'))\n",
    "image_list.append([cv2.cvtColor(image, cv2.COLOR_BGR2RGB), 'source', 'img'])\n",
    "\n",
    "out_img = detect_lines_hough(image)\n",
    "\n",
    "image_list.append([cv2.cvtColor(out_img, cv2.COLOR_BGR2RGB), 'detect lines', 'img'])\n",
    "\n",
    "plotter(image_list, 1, 2, True, 20, 10, 'q4b')"
   ]
  },
  {
   "cell_type": "markdown",
   "metadata": {},
   "source": [
    "# part d"
   ]
  },
  {
   "cell_type": "markdown",
   "metadata": {},
   "source": []
  }
 ],
 "metadata": {
  "colab": {
   "collapsed_sections": [],
   "name": "HW6.ipynb",
   "provenance": []
  },
  "kernelspec": {
   "display_name": "Python 3",
   "language": "python",
   "name": "python3"
  },
  "language_info": {
   "codemirror_mode": {
    "name": "ipython",
    "version": 3
   },
   "file_extension": ".py",
   "mimetype": "text/x-python",
   "name": "python",
   "nbconvert_exporter": "python",
   "pygments_lexer": "ipython3",
   "version": "3.7.4"
  },
  "toc": {
   "base_numbering": 1,
   "nav_menu": {},
   "number_sections": true,
   "sideBar": true,
   "skip_h1_title": false,
   "title_cell": "Table of Contents",
   "title_sidebar": "Contents",
   "toc_cell": false,
   "toc_position": {},
   "toc_section_display": true,
   "toc_window_display": true
  }
 },
 "nbformat": 4,
 "nbformat_minor": 1
}
