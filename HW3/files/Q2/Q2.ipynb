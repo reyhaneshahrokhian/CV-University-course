{
  "cells": [
    {
      "cell_type": "markdown",
      "metadata": {
        "id": "ACCJkGo_Gnq2"
      },
      "source": [
        "# **Q2**"
      ]
    },
    {
      "cell_type": "code",
      "execution_count": null,
      "metadata": {
        "id": "jQGQtZjkGnq8",
        "scrolled": true
      },
      "outputs": [],
      "source": [
        "import cv2\n",
        "import numpy as np\n",
        "import matplotlib.pyplot as plt\n",
        "import os"
      ]
    },
    {
      "cell_type": "code",
      "execution_count": null,
      "metadata": {
        "id": "YDC29E6jGnq-"
      },
      "outputs": [],
      "source": [
        "# run this cell for plotting\n",
        "def plotter(img_list, r, w, gray, wr, hr, fig_name = None):\n",
        "    '''\n",
        "    Plots images' list with its' caption and saves result image if you want.\n",
        "\n",
        "    Parameters:\n",
        "        img_list (list): The list of tuples of image and its' caption.\n",
        "        r (int): The number of row(s).\n",
        "        w (int): The number of colunm(s).\n",
        "        gray (bool): The flag for plotting images in grayscale mode.\n",
        "        wr (int): The width of one figure.\n",
        "        hr (int): The height of one figure.\n",
        "        fig_name (str): The name of the image of the plot. if not set this parameter the plot doesn't save.\n",
        "    '''\n",
        "\n",
        "    plt.rcParams['figure.figsize'] = (wr, hr)\n",
        "    for i in range(len(img_list)):\n",
        "        plt.subplot(r, w, i + 1)\n",
        "        if img_list[i][2] == 'img':\n",
        "            if gray:\n",
        "                plt.imshow(img_list[i][0], cmap = 'gray')\n",
        "            else:\n",
        "                plt.imshow(img_list[i][0])\n",
        "            plt.xticks([])\n",
        "            plt.yticks([])\n",
        "        elif img_list[i][2] == 'hist':\n",
        "            plt.bar(np.arange(len(img_list[i][0])), img_list[i][0], color = 'c')\n",
        "        else:\n",
        "            raise Exception(\"Only image or histogram. Use third parameter of tuples in img_list and set it to img or hist.\")\n",
        "        plt.title(img_list[i][1])\n",
        "    if fig_name is not None:\n",
        "        plt.savefig(fig_name + '.png')\n",
        "    plt.show()"
      ]
    },
    {
      "cell_type": "markdown",
      "metadata": {
        "id": "SyG0jGH1GnrA"
      },
      "source": [
        "Implement this function for changing phases and amplitudes of images."
      ]
    },
    {
      "cell_type": "code",
      "execution_count": null,
      "metadata": {
        "id": "MV98BNH7GnrA"
      },
      "outputs": [],
      "source": [
        "def draw_phase_amplitude(image):\n",
        "    '''\n",
        "    Returns the phase image and the amplitude image from the input image.\n",
        "\n",
        "    Parameters:\n",
        "        image (numpy.ndarray): The input image.\n",
        "\n",
        "    Returns:\n",
        "        tuple of numpy.ndarray: The tuple of the phase image and the amplitude image.\n",
        "    '''\n",
        "\n",
        "    phase = image.copy()\n",
        "    amp = image.copy()\n",
        "\n",
        "    # Writer your code here\n",
        "\n",
        "    return phase, amplitude\n",
        "\n",
        "def change_phase_domain(image1, image2):\n",
        "    '''\n",
        "    Substitutes the phase of image1 by the phase of image2 and returns two new images.\n",
        "\n",
        "    Parameters:\n",
        "        image1 (numpy.ndarray): The input image1.\n",
        "        image2 (numpy.ndarray): The input image2.\n",
        "\n",
        "    Returns:\n",
        "        tuple of numpy.ndarray: The tuple of result images.\n",
        "    '''\n",
        "\n",
        "    img1 = image1.copy()\n",
        "    img2 = image2.copy()\n",
        "\n",
        "    # Write your code here\n",
        "\n",
        "\n",
        "    return img1, img2"
      ]
    },
    {
      "cell_type": "code",
      "execution_count": null,
      "metadata": {
        "id": "l8U6sp1PGnrB"
      },
      "outputs": [],
      "source": [
        "# dont change this cell\n",
        "image_list = []\n",
        "image1 = cv2.imread(os.path.join('images', '1.jpg'), cv2.IMREAD_GRAYSCALE)\n",
        "image2 = cv2.imread(os.path.join('images', '2.jpg'), cv2.IMREAD_GRAYSCALE)\n",
        "\n",
        "image_list.append([image1, 'source 1', 'img'])\n",
        "\n",
        "phase1, amp1 = draw_phase_amplitude(image1)\n",
        "image_list.append([phase1, 'phase source 1', 'img'])\n",
        "image_list.append([amp1, 'amplitude source 1', 'img'])\n",
        "\n",
        "image_list.append([image2, 'source 2', 'img'])\n",
        "\n",
        "phase2, amp2 = draw_phase_amplitude(image2)\n",
        "image_list.append([phase2, 'phase source 2', 'img'])\n",
        "image_list.append([amp2, 'amplitude source 2', 'img'])\n",
        "\n",
        "res1, res2 = change_phase_domain(image1, image2)\n",
        "image_list.append([res1, 'new image 1', 'img'])\n",
        "image_list.append([res2, 'new image 2', 'img'])\n",
        "\n",
        "plotter(image_list, 4, 2, True, 10, 8, 'Q3')"
      ]
    }
  ],
  "metadata": {
    "colab": {
      "provenance": [],
      "toc_visible": true
    },
    "kernelspec": {
      "display_name": "Python 3",
      "language": "python",
      "name": "python3"
    },
    "language_info": {
      "codemirror_mode": {
        "name": "ipython",
        "version": 3
      },
      "file_extension": ".py",
      "mimetype": "text/x-python",
      "name": "python",
      "nbconvert_exporter": "python",
      "pygments_lexer": "ipython3",
      "version": "3.7.4"
    },
    "toc": {
      "base_numbering": 1,
      "nav_menu": {},
      "number_sections": true,
      "sideBar": true,
      "skip_h1_title": false,
      "title_cell": "Table of Contents",
      "title_sidebar": "Contents",
      "toc_cell": false,
      "toc_position": {},
      "toc_section_display": true,
      "toc_window_display": false
    }
  },
  "nbformat": 4,
  "nbformat_minor": 0
}
