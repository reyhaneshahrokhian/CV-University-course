{
  "cells": [
    {
      "cell_type": "markdown",
      "id": "4462c0f9",
      "metadata": {
        "id": "4462c0f9"
      },
      "source": [
        "## Introduction to Python\n",
        "Open an interactive python environment (python shell, ipython shell, or jupyter notebook), run the following commands and observe the output:"
      ]
    },
    {
      "cell_type": "markdown",
      "id": "3e6c9439",
      "metadata": {
        "id": "3e6c9439"
      },
      "source": [
        "### Integer, float, string, and boolean types"
      ]
    },
    {
      "cell_type": "code",
      "execution_count": null,
      "id": "fb239abe",
      "metadata": {
        "id": "fb239abe"
      },
      "outputs": [],
      "source": [
        "i = 1\n",
        "f = 1.1\n",
        "s = \"hello!\"\n",
        "t = True\n",
        "print(f'type(i) : {type(i)}')\n",
        "print(f'type(f) : {type(f)}')\n",
        "print(f'type(s) : {type(s)}')\n",
        "print(f'type(t) : {type(t)}')"
      ]
    },
    {
      "cell_type": "markdown",
      "id": "e8bb73c4",
      "metadata": {
        "id": "e8bb73c4"
      },
      "source": [
        "### Conversion between types (Casting)"
      ]
    },
    {
      "cell_type": "code",
      "execution_count": null,
      "id": "5dffdb98",
      "metadata": {
        "id": "5dffdb98"
      },
      "outputs": [],
      "source": [
        "print(f'str(i) : {str(i)}')\n",
        "print(f'str(f) : {str(f)}')\n",
        "print(f'int(f) : {int(f)}')\n",
        "print(f'int(\"123\") : {int(\"123\")}')\n",
        "print(f'float(i) : {float(i)}')\n",
        "print(f'float(\"1.1\") : {float(\"1.1\")}')\n",
        "print(f'int(t) : {int(t)}')\n",
        "print(f'int(False) : {int(False)}')"
      ]
    },
    {
      "cell_type": "markdown",
      "id": "36ea9478",
      "metadata": {
        "id": "36ea9478"
      },
      "source": [
        "### Basic operation"
      ]
    },
    {
      "cell_type": "code",
      "execution_count": null,
      "id": "ad4329c6",
      "metadata": {
        "id": "ad4329c6"
      },
      "outputs": [],
      "source": [
        "a = 3\n",
        "b = 10\n",
        "print(f'a*b : {a*b}')\n",
        "print(f'a+b : {a+b}')\n",
        "print(f'b**a : {b**a}')\n",
        "print(f'b/a : {b/a}')\n",
        "print(f'b//a : {b//a}')\n",
        "print(f'b%a : {b%a}')"
      ]
    },
    {
      "cell_type": "code",
      "execution_count": null,
      "id": "68eabc75",
      "metadata": {
        "id": "68eabc75"
      },
      "outputs": [],
      "source": [
        "c = 4\n",
        "c *= 3\n",
        "print(f'c : {c}')"
      ]
    },
    {
      "cell_type": "code",
      "execution_count": null,
      "id": "0007b776",
      "metadata": {
        "id": "0007b776"
      },
      "outputs": [],
      "source": [
        "print(f'a == b : {a == b}')\n",
        "print(f'a != b : {a != b}')\n",
        "print(f'a < b : {a < b}')\n",
        "print(f'a > b : {a > b}')\n",
        "print(f'a <= b : {a <= b}')\n",
        "print(f'a >= b : {a >= b}')\n",
        "print(f'not(a == b) : {not(a == b)}')\n",
        "print(f'a < 5 or a > 5 : {a < 5 or a > 5}')\n",
        "print(f'a < 5 and a > 5 : {a < 5 and a > 5}')"
      ]
    },
    {
      "cell_type": "markdown",
      "id": "51d9c86f",
      "metadata": {
        "id": "51d9c86f"
      },
      "source": [
        "### String operation"
      ]
    },
    {
      "cell_type": "code",
      "execution_count": null,
      "id": "a0b4f641",
      "metadata": {
        "id": "a0b4f641"
      },
      "outputs": [],
      "source": [
        "s = 'hello'\n",
        "s2 = 'hello'\n",
        "print(f's == s2 : {s == s2}')\n",
        "print(f'len(s) : {len(s)}')\n",
        "\n",
        "r = '123'\n",
        "print(f's + r : {s + r}')\n",
        "\n",
        "print(f's[0] : {s[0]}')\n",
        "print(f's[1] : {s[1]}')\n",
        "print(f's[-1] : {s[-1]}')\n",
        "print(f's[1:4] : {s[1:4]}')\n",
        "print(f's[1:] : {s[1:]}')\n",
        "print(f's[:-1] : {s[:-1]}')\n",
        "print(f's[::2] : {s[::2]}')"
      ]
    },
    {
      "cell_type": "markdown",
      "id": "c49d386b",
      "metadata": {
        "id": "c49d386b"
      },
      "source": [
        "### Tuples"
      ]
    },
    {
      "cell_type": "code",
      "execution_count": null,
      "id": "e362fa12",
      "metadata": {
        "id": "e362fa12"
      },
      "outputs": [],
      "source": [
        "t = (1,2,4)\n",
        "p =(2, 'abc', 13.2)\n",
        "print(f'p : {p}')\n",
        "print(f'p[0] : {p[0]}')\n",
        "print(f'p[-1] : {p[-1]}')\n",
        "print(f'len(p) : {len(p)}')\n",
        "p[0] = 100   # Pay attention to the error"
      ]
    },
    {
      "cell_type": "markdown",
      "id": "34fcc3d0",
      "metadata": {
        "id": "34fcc3d0"
      },
      "source": [
        "### List"
      ]
    },
    {
      "cell_type": "code",
      "execution_count": null,
      "id": "7630a56a",
      "metadata": {
        "id": "7630a56a"
      },
      "outputs": [],
      "source": [
        "l = [1, 2, 3, 4]\n",
        "print(f'l : {l}')\n",
        "\n",
        "l = l + [True]\n",
        "print(f'l : {l}')\n",
        "\n",
        "print(f'len(l) : {len(l)}')\n",
        "\n",
        "l.append(5)\n",
        "print(f'l : {l}')\n",
        "\n",
        "l.insert(0,100)\n",
        "print(l)\n",
        "\n",
        "print(f'100 in l : {100 in l}')\n",
        "print(f'101 in l : {101 in l}')\n",
        "\n",
        "l.extend(['a', 'b', 'c'])\n",
        "print(f'l : {l}')\n",
        "\n",
        "l.append(['e', 'f', 'g'])\n",
        "print(f'l : {l}')\n",
        "\n",
        "print(f'l.pop() : {l.pop()}')\n",
        "print(f'l : {l}')\n",
        "print(f'l.pop(5) : {l.pop(5)}')\n",
        "print(f'l : {l}')"
      ]
    },
    {
      "cell_type": "code",
      "execution_count": null,
      "id": "5d98e8d1",
      "metadata": {
        "id": "5d98e8d1"
      },
      "outputs": [],
      "source": [
        "l=[100,101,102,103,104,105,106,107,108,109,110,111,112]\n",
        "\n",
        "print(f'l[0] : {l[0]}')\n",
        "print(f'l[1] : {l[1]}')\n",
        "print(f'l[-1] : {l[-1]}')\n",
        "print(f'l[1:5] : {l[1:5]}')\n",
        "print(f'l[::-1] : {l[::-1]}')\n",
        "\n",
        "l.reverse()\n",
        "print(f'l : {l}')\n",
        "\n",
        "l.sort()\n",
        "print(f'l : {l}')"
      ]
    },
    {
      "cell_type": "code",
      "execution_count": null,
      "id": "b97665df",
      "metadata": {
        "id": "b97665df"
      },
      "outputs": [],
      "source": [
        "l[1] = 0\n",
        "print(f'l : {l}')"
      ]
    },
    {
      "cell_type": "markdown",
      "id": "afc2f74d",
      "metadata": {
        "id": "afc2f74d"
      },
      "source": [
        "### The range function"
      ]
    },
    {
      "cell_type": "code",
      "execution_count": null,
      "id": "f7e20ed9",
      "metadata": {
        "id": "f7e20ed9"
      },
      "outputs": [],
      "source": [
        "print(f'range(10) : {range(10)}')\n",
        "print(f'list(range(10)) : {list(range(10))}')\n",
        "print(f'list(range(4,30,3)) : {list(range(4,30,3))}')"
      ]
    },
    {
      "cell_type": "markdown",
      "id": "471d7998",
      "metadata": {
        "id": "471d7998"
      },
      "source": [
        "### Dictionaries"
      ]
    },
    {
      "cell_type": "code",
      "execution_count": null,
      "id": "f655f26f",
      "metadata": {
        "id": "f655f26f"
      },
      "outputs": [],
      "source": [
        "d = {1: 'hello', 8: 1.4}\n",
        "print(f'd[1] : {d[1]}')\n",
        "print(f'd[8] : {d[8]}')\n",
        "print(f'd[2] : {d[2]}')    # Error\n"
      ]
    },
    {
      "cell_type": "code",
      "execution_count": null,
      "id": "f7e54a18",
      "metadata": {
        "id": "f7e54a18"
      },
      "outputs": [],
      "source": [
        "d[2] = 444\n",
        "print(f'd : {d}')\n",
        "print(f'd[2] : {d[2]}')"
      ]
    },
    {
      "cell_type": "code",
      "execution_count": null,
      "id": "e4cc8081",
      "metadata": {
        "id": "e4cc8081"
      },
      "outputs": [],
      "source": [
        "d['k'] = 99\n",
        "print(f'd : {d}')"
      ]
    },
    {
      "cell_type": "code",
      "execution_count": null,
      "id": "a4bb9866",
      "metadata": {
        "id": "a4bb9866"
      },
      "outputs": [],
      "source": [
        "print(f'd.keys() : {d.keys()}')\n",
        "print(f'd.values() : {d.values()}')\n",
        "print(f'd.items() : {d.items()}')"
      ]
    },
    {
      "cell_type": "code",
      "execution_count": null,
      "id": "4f9aa8ac",
      "metadata": {
        "id": "4f9aa8ac"
      },
      "outputs": [],
      "source": [
        "print(f'd : {d}')\n",
        "del d['k']\n",
        "print(f'd : {d}')"
      ]
    },
    {
      "cell_type": "markdown",
      "id": "a7627032",
      "metadata": {
        "id": "a7627032"
      },
      "source": [
        "### Conditions"
      ]
    },
    {
      "cell_type": "code",
      "execution_count": null,
      "id": "af3a9ca8",
      "metadata": {
        "id": "af3a9ca8"
      },
      "outputs": [],
      "source": [
        "i = 12\n",
        "b = 1\n",
        "if i == 12:\n",
        "    b = 2\n",
        "    print(b)"
      ]
    },
    {
      "cell_type": "code",
      "execution_count": null,
      "id": "082544df",
      "metadata": {
        "id": "082544df"
      },
      "outputs": [],
      "source": [
        "i = 12\n",
        "if i == 10:\n",
        "    print('YES')\n",
        "    print('i equals 10')\n",
        "else:\n",
        "    print('NO')\n",
        "    print('i is not equal to 10')"
      ]
    },
    {
      "cell_type": "code",
      "execution_count": null,
      "id": "8f0cecda",
      "metadata": {
        "id": "8f0cecda"
      },
      "outputs": [],
      "source": [
        "i = 11\n",
        "b = 'salam'\n",
        "if i == 12:\n",
        "    print('Twelve')\n",
        "elif i == 11 and b == 'hi':\n",
        "    print('Eleven-hi')\n",
        "elif i > 10 and b == 'salam':\n",
        "    print('SALAAAMM!!')\n",
        "else:\n",
        "    print('None')"
      ]
    },
    {
      "cell_type": "markdown",
      "id": "00d1dd0c",
      "metadata": {
        "id": "00d1dd0c"
      },
      "source": [
        "### while loop"
      ]
    },
    {
      "cell_type": "code",
      "execution_count": null,
      "id": "6b4bef68",
      "metadata": {
        "id": "6b4bef68"
      },
      "outputs": [],
      "source": [
        "i = 10\n",
        "while i > 0:\n",
        "    print(i*i)\n",
        "    i -= 2"
      ]
    },
    {
      "cell_type": "markdown",
      "id": "ac5adb09",
      "metadata": {
        "id": "ac5adb09"
      },
      "source": [
        "### For loop"
      ]
    },
    {
      "cell_type": "code",
      "execution_count": null,
      "id": "19b5cab8",
      "metadata": {
        "id": "19b5cab8"
      },
      "outputs": [],
      "source": [
        "l = [10,20,30,40.2, 'salam']\n",
        "for k in l:\n",
        "    print(k)"
      ]
    },
    {
      "cell_type": "code",
      "execution_count": null,
      "id": "4b55f4b1",
      "metadata": {
        "id": "4b55f4b1"
      },
      "outputs": [],
      "source": [
        "for k in range(2,20):\n",
        "    print(k, k*k)"
      ]
    },
    {
      "cell_type": "code",
      "execution_count": null,
      "id": "39fb8b24",
      "metadata": {
        "id": "39fb8b24"
      },
      "outputs": [],
      "source": [
        "p = [1,2,3]\n",
        "q = ['One','Two','Three']\n",
        "for i in range(len(p)):\n",
        "    print(p[i],q[i])"
      ]
    },
    {
      "cell_type": "markdown",
      "id": "b804553f",
      "metadata": {
        "id": "b804553f"
      },
      "source": [
        "### Functions"
      ]
    },
    {
      "cell_type": "code",
      "execution_count": null,
      "id": "c903865c",
      "metadata": {
        "id": "c903865c"
      },
      "outputs": [],
      "source": [
        "def add(a,b):\n",
        "    return a+b\n",
        "\n",
        "print(add(2,3))\n",
        "print(add(2,3.1))\n",
        "print(add('abc', '123'))"
      ]
    },
    {
      "cell_type": "code",
      "execution_count": null,
      "id": "fe0b17fd",
      "metadata": {
        "id": "fe0b17fd"
      },
      "outputs": [],
      "source": [
        "def sum (l):\n",
        "    s = 0\n",
        "    for k in l:\n",
        "        s += k\n",
        "    return s\n",
        "\n",
        "l = [1,2,4,8,16]\n",
        "print(sum(l))\n",
        "print(sum(range(10)))\n",
        "print(sum(2))   # Error"
      ]
    },
    {
      "cell_type": "markdown",
      "id": "ae1a63c9",
      "metadata": {
        "id": "ae1a63c9"
      },
      "source": [
        "#### Default argument values"
      ]
    },
    {
      "cell_type": "code",
      "execution_count": null,
      "id": "5300e509",
      "metadata": {
        "id": "5300e509",
        "outputId": "152b2acf-485e-4f6b-9245-a002baf120ee"
      },
      "outputs": [
        {
          "name": "stdout",
          "output_type": "stream",
          "text": [
            "24\n",
            "21\n"
          ]
        }
      ],
      "source": [
        "def add(a,b=1):\n",
        "    return a+b\n",
        "\n",
        "\n",
        "print(add(20,4))\n",
        "print(add(20))"
      ]
    },
    {
      "cell_type": "markdown",
      "id": "501fea4f",
      "metadata": {
        "id": "501fea4f"
      },
      "source": [
        "### Using python modules\n"
      ]
    },
    {
      "cell_type": "code",
      "execution_count": null,
      "id": "22b81c8b",
      "metadata": {
        "id": "22b81c8b"
      },
      "outputs": [],
      "source": [
        "import math\n",
        "print(math.cos(0), math.exp(0))\n",
        "print(math.pi)\n",
        "print(math.cos(math.pi))"
      ]
    },
    {
      "cell_type": "code",
      "execution_count": null,
      "id": "31bf18d4",
      "metadata": {
        "id": "31bf18d4"
      },
      "outputs": [],
      "source": [
        "import math as m\n",
        "print(m.tan(0))"
      ]
    },
    {
      "cell_type": "code",
      "execution_count": null,
      "id": "ae8faec6",
      "metadata": {
        "id": "ae8faec6"
      },
      "outputs": [],
      "source": [
        "from math import sin, cos, exp, pi\n",
        "print(exp(1), sin(pi/2))"
      ]
    },
    {
      "cell_type": "code",
      "execution_count": null,
      "id": "9ae13184",
      "metadata": {
        "id": "9ae13184"
      },
      "outputs": [],
      "source": [
        "from math import *\n",
        "print(pi)\n",
        "print(e)\n",
        "print(log(e))\n",
        "print(cos(log(1)))\n",
        "print(tan(pi/4))"
      ]
    },
    {
      "cell_type": "markdown",
      "id": "32e44068",
      "metadata": {
        "id": "32e44068"
      },
      "source": [
        "### More practice"
      ]
    },
    {
      "cell_type": "markdown",
      "id": "64532109",
      "metadata": {
        "id": "64532109"
      },
      "source": [
        "#### zip method"
      ]
    },
    {
      "cell_type": "code",
      "execution_count": null,
      "id": "d8cbce13",
      "metadata": {
        "id": "d8cbce13"
      },
      "outputs": [],
      "source": [
        "p = [1,2,3]\n",
        "q = ['One','Two','Three']\n",
        "\n",
        "print(p)\n",
        "print(q)\n",
        "print(zip(p,q))\n",
        "\n",
        "for x,y in zip(p,q):\n",
        "    print(x,y)"
      ]
    },
    {
      "cell_type": "markdown",
      "id": "74593588",
      "metadata": {
        "id": "74593588"
      },
      "source": [
        "#### enumerate method"
      ]
    },
    {
      "cell_type": "code",
      "execution_count": null,
      "id": "b3e9c062",
      "metadata": {
        "id": "b3e9c062"
      },
      "outputs": [],
      "source": [
        "l = ['a', 'b', 'c']\n",
        "print(l)\n",
        "print()\n",
        "\n",
        "for i,k in enumerate(l):\n",
        "    print(i,k)"
      ]
    },
    {
      "cell_type": "markdown",
      "id": "458122d9",
      "metadata": {
        "id": "458122d9"
      },
      "source": [
        "#### Initialization of list"
      ]
    },
    {
      "cell_type": "code",
      "execution_count": null,
      "id": "9975158a",
      "metadata": {
        "id": "9975158a"
      },
      "outputs": [],
      "source": [
        "l = [10,20,30]\n",
        "t = [2*k for k in l]\n",
        "print(t)"
      ]
    },
    {
      "cell_type": "code",
      "execution_count": null,
      "id": "84436588",
      "metadata": {
        "id": "84436588"
      },
      "outputs": [],
      "source": [
        "t = [k for k in range(10)]\n",
        "print(t)"
      ]
    },
    {
      "cell_type": "code",
      "execution_count": null,
      "id": "47e859fa",
      "metadata": {
        "id": "47e859fa"
      },
      "outputs": [],
      "source": [
        "t = [k for k in range(10) if k % 2 == 0]\n",
        "print(t)"
      ]
    },
    {
      "cell_type": "markdown",
      "id": "a0396ab9",
      "metadata": {
        "id": "a0396ab9"
      },
      "source": [
        "#### Lambda"
      ]
    },
    {
      "cell_type": "code",
      "execution_count": null,
      "id": "eeafd53d",
      "metadata": {
        "id": "eeafd53d"
      },
      "outputs": [],
      "source": [
        "f = lambda x: 2*x+1\n",
        "print(f(1))\n",
        "print(f(2))"
      ]
    }
  ],
  "metadata": {
    "kernelspec": {
      "display_name": "Python 3 (ipykernel)",
      "language": "python",
      "name": "python3"
    },
    "language_info": {
      "codemirror_mode": {
        "name": "ipython",
        "version": 3
      },
      "file_extension": ".py",
      "mimetype": "text/x-python",
      "name": "python",
      "nbconvert_exporter": "python",
      "pygments_lexer": "ipython3",
      "version": "3.10.5"
    },
    "colab": {
      "provenance": []
    }
  },
  "nbformat": 4,
  "nbformat_minor": 5
}