{
  "nbformat": 4,
  "nbformat_minor": 0,
  "metadata": {
    "colab": {
      "provenance": [],
      "collapsed_sections": [
        "EnsrIpJe8qn6",
        "6vU3UdcPO4-J",
        "coqjllj_QBHy",
        "p11dfAELOjtE"
      ]
    },
    "kernelspec": {
      "name": "python3",
      "display_name": "Python 3"
    },
    "language_info": {
      "name": "python"
    }
  },
  "cells": [
    {
      "cell_type": "code",
      "source": [
        "# Import necessary libraries"
      ],
      "metadata": {
        "id": "NvQglNes83-L"
      },
      "execution_count": null,
      "outputs": []
    },
    {
      "cell_type": "markdown",
      "source": [
        "# Q1"
      ],
      "metadata": {
        "id": "Iu1e2I8hOddP"
      }
    },
    {
      "cell_type": "markdown",
      "source": [
        "## Read 1.jpg image"
      ],
      "metadata": {
        "id": "EnsrIpJe8qn6"
      }
    },
    {
      "cell_type": "code",
      "source": [],
      "metadata": {
        "id": "QWZWGVgS82an"
      },
      "execution_count": null,
      "outputs": []
    },
    {
      "cell_type": "markdown",
      "source": [
        "## Q1.1: RGB to CMYK & CMYK to RGB"
      ],
      "metadata": {
        "id": "6vU3UdcPO4-J"
      }
    },
    {
      "cell_type": "code",
      "source": [
        "def RGB_to_CMYK(r, g, b, RGB_SCALE = 255, CMYK_SCALE = 100):\n",
        "\n",
        "  #############\n",
        "  # Your code #\n",
        "  #############\n",
        "\n",
        "  return c, m, y, k"
      ],
      "metadata": {
        "id": "n3Phs0nbOiHy"
      },
      "execution_count": null,
      "outputs": []
    },
    {
      "cell_type": "code",
      "source": [
        "def CMYK_to_RGB(c, m, y, k, RGB_SCALE = 255, CMYK_SCALE = 100):\n",
        "\n",
        "  #############\n",
        "  # Your code #\n",
        "  #############\n",
        "\n",
        "  return r, g, b"
      ],
      "metadata": {
        "id": "Kk00nzRePsnP"
      },
      "execution_count": null,
      "outputs": []
    },
    {
      "cell_type": "markdown",
      "source": [
        "## Q1.2: RGB to HSI"
      ],
      "metadata": {
        "id": "coqjllj_QBHy"
      }
    },
    {
      "cell_type": "code",
      "source": [
        "def RGB_to_HSI(r, g, b):\n",
        "\n",
        "  #############\n",
        "  # Your code #\n",
        "  #############\n",
        "\n",
        "  return h, s, i"
      ],
      "metadata": {
        "id": "IFMoJ_HPQC6x"
      },
      "execution_count": null,
      "outputs": []
    },
    {
      "cell_type": "markdown",
      "source": [
        "## Show result image for all functions"
      ],
      "metadata": {
        "id": "icPRxMe39YRf"
      }
    },
    {
      "cell_type": "code",
      "source": [],
      "metadata": {
        "id": "0BkqNK5m9c2Z"
      },
      "execution_count": null,
      "outputs": []
    },
    {
      "cell_type": "markdown",
      "source": [
        "# Q2"
      ],
      "metadata": {
        "id": "p11dfAELOjtE"
      }
    },
    {
      "cell_type": "markdown",
      "source": [
        "## Read images"
      ],
      "metadata": {
        "id": "lNObEP7H-9Lg"
      }
    },
    {
      "cell_type": "code",
      "source": [],
      "metadata": {
        "id": "PnPrRIJ9-8nq"
      },
      "execution_count": null,
      "outputs": []
    },
    {
      "cell_type": "markdown",
      "source": [
        "## Find differences between two pictures"
      ],
      "metadata": {
        "id": "K0wAR_6Y_MuA"
      }
    },
    {
      "cell_type": "code",
      "source": [
        "def diff (image1, image2):\n",
        "\n",
        "  #############\n",
        "  # Your code #\n",
        "  #############\n",
        "\n",
        "  return result"
      ],
      "metadata": {
        "id": "rD77rEQJOlr1"
      },
      "execution_count": null,
      "outputs": []
    },
    {
      "cell_type": "markdown",
      "source": [
        "## Show result"
      ],
      "metadata": {
        "id": "LXWNeFCk-x6-"
      }
    },
    {
      "cell_type": "code",
      "source": [],
      "metadata": {
        "id": "0gvKme5h-5nM"
      },
      "execution_count": null,
      "outputs": []
    }
  ]
}