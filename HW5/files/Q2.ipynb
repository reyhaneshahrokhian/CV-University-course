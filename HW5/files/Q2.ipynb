{
  "cells": [
    {
      "attachments": {},
      "cell_type": "markdown",
      "metadata": {
        "id": "oHp_rlpP4mqr"
      },
      "source": [
        "# Q2"
      ]
    },
    {
      "cell_type": "code",
      "execution_count": null,
      "metadata": {
        "id": "2WGsMt4o4jtA"
      },
      "outputs": [],
      "source": [
        "import cv2 # just for reading the image \n",
        "import numpy as np \n",
        "import matplotlib.pyplot as plt"
      ]
    },
    {
      "cell_type": "markdown",
      "metadata": {},
      "source": [
        "read image \"q2.png\""
      ]
    },
    {
      "cell_type": "code",
      "execution_count": null,
      "metadata": {
        "id": "W4JZ8EMdNtt-"
      },
      "outputs": [],
      "source": [
        "img = #..."
      ]
    },
    {
      "cell_type": "markdown",
      "metadata": {},
      "source": [
        "plot the image"
      ]
    },
    {
      "cell_type": "code",
      "execution_count": null,
      "metadata": {},
      "outputs": [],
      "source": []
    },
    {
      "cell_type": "code",
      "execution_count": null,
      "metadata": {
        "id": "DpN04DahP8_5"
      },
      "outputs": [],
      "source": [
        "def segment(image,seed_point,threshold,neighbor_mode=0):\n",
        "    segmented_image = image.copy()\n",
        "    ### neighbor_mode=0 => 4-connectivity\n",
        "    ### neighbor_mode=1 => 8-connectivity\n",
        "    ### your implementation\n",
        "    ### \n",
        "\n",
        "    return segmented_image"
      ]
    },
    {
      "cell_type": "code",
      "execution_count": null,
      "metadata": {
        "id": "agInYNjraay6"
      },
      "outputs": [],
      "source": [
        "seed_point=# Declare seed point\n",
        "threshold=# Declare threshold"
      ]
    },
    {
      "cell_type": "code",
      "execution_count": null,
      "metadata": {},
      "outputs": [],
      "source": [
        "segmented_image_4 = segment(img,seed_point,threshold)\n",
        "segmented_image_8 = segment(img,seed_point,threshold,1)"
      ]
    },
    {
      "cell_type": "markdown",
      "metadata": {},
      "source": [
        "plot the results and compare them"
      ]
    },
    {
      "cell_type": "code",
      "execution_count": null,
      "metadata": {},
      "outputs": [],
      "source": []
    }
  ],
  "metadata": {
    "colab": {
      "provenance": []
    },
    "kernelspec": {
      "display_name": "Python 3",
      "name": "python3"
    },
    "language_info": {
      "codemirror_mode": {
        "name": "ipython",
        "version": 3
      },
      "file_extension": ".py",
      "mimetype": "text/x-python",
      "name": "python",
      "nbconvert_exporter": "python",
      "pygments_lexer": "ipython3",
      "version": "3.10.12"
    }
  },
  "nbformat": 4,
  "nbformat_minor": 0
}
