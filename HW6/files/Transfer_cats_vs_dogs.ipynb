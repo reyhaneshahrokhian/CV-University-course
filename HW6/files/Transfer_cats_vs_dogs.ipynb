{
 "cells": [
  {
   "cell_type": "code",
   "execution_count": null,
   "metadata": {
    "id": "Wic0k4eK2BN9"
   },
   "outputs": [],
   "source": [
    "import numpy as np\n",
    "import tensorflow as tf\n",
    "import tensorflow_datasets as tfds\n",
    "from tensorflow.keras.applications import InceptionV3\n",
    "from keras.models import Model\n",
    "import matplotlib.pyplot as plt\n",
    "from sklearn.metrics import accuracy_score\n",
    "\n",
    "\n",
    "\n",
    "# Load the Dogs vs. Cats dataset\n",
    "train_dataset, info = tfds.load('cats_vs_dogs', split='train[:80%]', with_info=True)\n",
    "test_dataset = tfds.load('cats_vs_dogs', split='train[80%:]', with_info=False)\n",
    "\n",
    "# Preprocess the data\n",
    "\n",
    "## your code goes here##"
   ]
  },
  {
   "cell_type": "code",
   "execution_count": null,
   "metadata": {
    "colab": {
     "base_uri": "https://localhost:8080/",
     "height": 428
    },
    "id": "tbRMlsHC6sxh",
    "outputId": "bb7b9c3a-297a-4e18-b3ee-a677e3f1d276"
   },
   "outputs": [],
   "source": [
    "##show some of images with their labels\n",
    "## your code goes here##"
   ]
  },
  {
   "cell_type": "code",
   "execution_count": null,
   "metadata": {
    "colab": {
     "base_uri": "https://localhost:8080/"
    },
    "id": "J0A6ZgMCCS1p",
    "outputId": "64df4aff-f92f-4836-ad5e-b0822737d7ae"
   },
   "outputs": [],
   "source": [
    "# Load the Inception-v3 model \n",
    "inception_model =InceptionV3(weights='imagenet', include_top=?, input_shape=(299,299, 3))\n",
    "print(inception_model.summary())\n"
   ]
  },
  {
   "cell_type": "code",
   "execution_count": null,
   "metadata": {
    "id": "98PViBXXk8V_"
   },
   "outputs": [],
   "source": [
    "#create your model \n",
    "#dont forget to freeze the pretrained part\n",
    "##your code goes here##"
   ]
  },
  {
   "cell_type": "code",
   "execution_count": null,
   "metadata": {
    "colab": {
     "base_uri": "https://localhost:8080/"
    },
    "id": "_YWO1H5a-NdE",
    "outputId": "126dd0a9-47fc-424a-ee9b-13465bc1222f"
   },
   "outputs": [],
   "source": [
    "# Compile the model\n",
    "##your code goes here##\n",
    "\n",
    "# Print model summary\n",
    "##your code goes here##\n"
   ]
  },
  {
   "cell_type": "code",
   "execution_count": null,
   "metadata": {
    "colab": {
     "base_uri": "https://localhost:8080/"
    },
    "id": "b4UTGhUM_lp9",
    "outputId": "12afddac-8e31-4adc-c436-0d34fa65ae5d"
   },
   "outputs": [],
   "source": [
    "#train your model\n",
    "##your code goes here##"
   ]
  },
  {
   "cell_type": "code",
   "execution_count": null,
   "metadata": {},
   "outputs": [],
   "source": [
    "#report the accuracy on your test set\n",
    "##your code goes here##"
   ]
  }
 ],
 "metadata": {
  "accelerator": "GPU",
  "colab": {
   "gpuType": "T4",
   "provenance": []
  },
  "kernelspec": {
   "display_name": "Python 3 (ipykernel)",
   "language": "python",
   "name": "python3"
  },
  "language_info": {
   "codemirror_mode": {
    "name": "ipython",
    "version": 3
   },
   "file_extension": ".py",
   "mimetype": "text/x-python",
   "name": "python",
   "nbconvert_exporter": "python",
   "pygments_lexer": "ipython3",
   "version": "3.9.13"
  }
 },
 "nbformat": 4,
 "nbformat_minor": 1
}
