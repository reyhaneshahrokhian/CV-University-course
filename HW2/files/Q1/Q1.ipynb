{
  "cells": [
    {
      "cell_type": "code",
      "execution_count": 1,
      "id": "b3443c0c",
      "metadata": {
        "id": "b3443c0c"
      },
      "outputs": [],
      "source": [
        "import numpy as np\n",
        "import cv2\n",
        "from matplotlib import pyplot as plt"
      ]
    },
    {
      "cell_type": "markdown",
      "id": "8271addf",
      "metadata": {
        "id": "8271addf"
      },
      "source": [
        "# Question 1:"
      ]
    },
    {
      "cell_type": "markdown",
      "id": "5a8db857",
      "metadata": {
        "id": "5a8db857"
      },
      "source": [
        "# part 2:"
      ]
    },
    {
      "cell_type": "code",
      "execution_count": 3,
      "id": "6b38465d",
      "metadata": {
        "id": "6b38465d"
      },
      "outputs": [],
      "source": [
        "#define image1 here\n"
      ]
    },
    {
      "cell_type": "code",
      "execution_count": 5,
      "id": "b11881b5",
      "metadata": {
        "id": "b11881b5"
      },
      "outputs": [],
      "source": [
        "#code here\n",
        "#first define a function for calculating histogram\n",
        "#you are free to use libraries\n",
        "def calc_hist(image):\n",
        "    '''\n",
        "    you are free to use libraries\n",
        "    calculate image histogram\n",
        "    input(s):\n",
        "      image (ndarray): input image\n",
        "    output(s):\n",
        "      hist (ndarray): computed input image histogram\n",
        "    '''\n",
        "    return(hist)"
      ]
    },
    {
      "cell_type": "code",
      "execution_count": null,
      "id": "9e6bfebe",
      "metadata": {
        "colab": {
          "base_uri": "https://localhost:8080/",
          "height": 885
        },
        "id": "9e6bfebe",
        "outputId": "bedad756-6435-4f6a-a16d-eed27e2480c7"
      },
      "outputs": [],
      "source": [
        "#dont change this cell\n",
        "plt.imshow(image1,cmap='gray',vmin=0,vmax=255)\n",
        "plt.figure()\n",
        "plt.plot(calc_hist(image1))\n",
        "plt.title('histogram')"
      ]
    },
    {
      "cell_type": "code",
      "execution_count": null,
      "id": "f3859f52",
      "metadata": {
        "id": "f3859f52"
      },
      "outputs": [],
      "source": [
        "#code here\n",
        "#define a function (stretch) for stretching(input:image , output: stretched image)\n",
        "\n",
        "def stretch_hist(image):\n",
        "  '''\n",
        "  don't use libraries\n",
        "  input(s):\n",
        "    image (ndarray): input image\n",
        "  output(s):\n",
        "    output_image (ndarray): enhanced image with histogram stretching\n",
        "  '''\n",
        "  output_image = image.copy()\n",
        "  # Start\n",
        "\n",
        "  # End\n",
        "  return output_image\n"
      ]
    },
    {
      "cell_type": "code",
      "execution_count": null,
      "id": "a845c79f",
      "metadata": {
        "id": "a845c79f"
      },
      "outputs": [],
      "source": [
        "#dont change this cell\n",
        "plt.imshow(stretch_hist(image1),cmap='gray',vmin=0,vmax=255)\n",
        "plt.figure()\n",
        "plt.plot(calc_hist(stretch_hist(image1)))\n",
        "plt.title('stretched histogram')"
      ]
    },
    {
      "cell_type": "code",
      "execution_count": null,
      "id": "3jpz3KGNg0wu",
      "metadata": {
        "id": "3jpz3KGNg0wu"
      },
      "outputs": [],
      "source": [
        "#code here\n",
        "#define a function (Clip) for Clipping(input:image , output: Clipped image)\n",
        "\n",
        "def clip_hist(image, min_value, max_value):\n",
        "  '''\n",
        "  don't use libraries\n",
        "  input(s):\n",
        "    image (ndarray): input image\n",
        "    min_value : min value of the histogram which you wanna clip.\n",
        "    max_value : max value of the histogram which you wanna clip.\n",
        "  output(s):\n",
        "    output_image (ndarray): enhanced image with histogram clipping\n",
        "  '''\n",
        "  output_image = image.copy()\n",
        "  # Start\n",
        "\n",
        "  # End\n",
        "  return output_image\n"
      ]
    },
    {
      "cell_type": "code",
      "execution_count": null,
      "id": "r_A62fLxiMY1",
      "metadata": {
        "id": "r_A62fLxiMY1"
      },
      "outputs": [],
      "source": [
        "#dont change this cell\n",
        "min_value = # your min value here\n",
        "max_value = # your max value here\n",
        "plt.imshow(clip_hist(image1),cmap='gray',vmin=0,vmax=255)\n",
        "plt.figure()\n",
        "plt.plot(calc_hist(clip_hist(image1,min_value, max_value)))\n",
        "plt.title('clipped histogram')"
      ]
    },
    {
      "cell_type": "markdown",
      "id": "a348da7a",
      "metadata": {
        "id": "a348da7a"
      },
      "source": [
        "# part3\n"
      ]
    },
    {
      "cell_type": "code",
      "execution_count": null,
      "id": "9f6bc9a9",
      "metadata": {
        "id": "9f6bc9a9"
      },
      "outputs": [],
      "source": [
        "# first read the image and show it.(image2)\n"
      ]
    },
    {
      "cell_type": "code",
      "execution_count": null,
      "id": "7c7cce53",
      "metadata": {
        "id": "7c7cce53"
      },
      "outputs": [],
      "source": [
        "#use stretch_hist function to improve quality of the image and show it\n"
      ]
    },
    {
      "cell_type": "code",
      "execution_count": null,
      "id": "C8gxFMGBoaxk",
      "metadata": {
        "id": "C8gxFMGBoaxk"
      },
      "outputs": [],
      "source": [
        "#use clip_hist function to improve quality of the image and show it\n"
      ]
    }
  ],
  "metadata": {
    "colab": {
      "provenance": []
    },
    "kernelspec": {
      "display_name": "Python 3 (ipykernel)",
      "language": "python",
      "name": "python3"
    },
    "language_info": {
      "codemirror_mode": {
        "name": "ipython",
        "version": 3
      },
      "file_extension": ".py",
      "mimetype": "text/x-python",
      "name": "python",
      "nbconvert_exporter": "python",
      "pygments_lexer": "ipython3",
      "version": "3.9.12"
    }
  },
  "nbformat": 4,
  "nbformat_minor": 5
}
