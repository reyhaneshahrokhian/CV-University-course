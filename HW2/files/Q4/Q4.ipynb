{
  "cells": [
    {
      "cell_type": "markdown",
      "metadata": {
        "id": "KshfLKgbslta"
      },
      "source": [
        "# Question 4"
      ]
    },
    {
      "cell_type": "code",
      "execution_count": 67,
      "metadata": {
        "id": "g7Q0z8YJta7L"
      },
      "outputs": [],
      "source": [
        "import numpy as np\n",
        "import cv2\n",
        "import math\n",
        "import matplotlib.pyplot as plt\n",
        "import random\n",
        "from google.colab.patches import cv2_imshow\n",
        "from scipy.signal import convolve2d"
      ]
    },
    {
      "cell_type": "markdown",
      "metadata": {
        "id": "m-q1Zz4Kst4n"
      },
      "source": [
        "## part a"
      ]
    },
    {
      "cell_type": "code",
      "execution_count": 159,
      "metadata": {
        "id": "lwyKLaXsRWqd"
      },
      "outputs": [],
      "source": [
        "# Do not change this cell\n",
        "image = cv2.imread('cat.png',cv2.IMREAD_GRAYSCALE)"
      ]
    },
    {
      "cell_type": "code",
      "execution_count": 160,
      "metadata": {
        "id": "6fW43WqbgDfH"
      },
      "outputs": [],
      "source": [
        "def Add_Noise(img):\n",
        "    \"\"\"\n",
        "    Add salt and pepper noise to the input image.\n",
        "        Parameters:\n",
        "          image: Input image (numpy array).\n",
        "        Returns:\n",
        "          Image with salt and pepper noise added.\n",
        "    \"\"\"\n",
        "\n",
        "    return img"
      ]
    },
    {
      "cell_type": "code",
      "execution_count": null,
      "metadata": {
        "colab": {
          "base_uri": "https://localhost:8080/",
          "height": 445
        },
        "id": "CFyyp2L9gfBQ",
        "outputId": "a73918fd-a4c0-44c8-e952-95267cf961c9"
      },
      "outputs": [],
      "source": [
        "image = Add_Noise(image)\n",
        "plt.imshow(image,cmap='gray')\n",
        "plt.title(\"cat with noise\")\n",
        "plt.axis(\"off\")"
      ]
    },
    {
      "cell_type": "markdown",
      "metadata": {
        "id": "xC8SoMk1fmtf"
      },
      "source": [
        "# part b"
      ]
    },
    {
      "cell_type": "markdown",
      "metadata": {
        "id": "W2gVCOSUf_QK"
      },
      "source": [
        "<h3> in this section we want to implement : </h3>\n",
        "\n",
        "1.   Averaging Blurring\n",
        "2.   Median Blurring\n",
        "3.   Gaussian Blurring\n",
        "\n",
        "<h3> you should define reflect101 padding function and use it befor blurring </h3>\n",
        "<h3><b> note : you can't use libraries in this section </b></h3>\n",
        "<h3><b> note : you can't use loop in Reflect101 function </b></h3>\n",
        "\n",
        "\n"
      ]
    },
    {
      "cell_type": "code",
      "execution_count": 162,
      "metadata": {
        "id": "OB7u6wGYiSLm"
      },
      "outputs": [],
      "source": [
        "def Reflect101(img,filter_size):\n",
        "  '''\n",
        "    Do not use loop (like while and for)\n",
        "    Do not use libraries\n",
        "    calculate averaging filter\n",
        "    input(s):\n",
        "      img (ndarray): input image\n",
        "      filter_size (ndarray): filter size\n",
        "    output(s):\n",
        "      image (ndarray): computed Reflect101\n",
        "  '''\n",
        "\n",
        "  #######################\n",
        "  #    your code here   #\n",
        "  #######################\n",
        "\n",
        "  return image"
      ]
    },
    {
      "cell_type": "code",
      "execution_count": 163,
      "metadata": {
        "id": "f7YLvCGdsf0W"
      },
      "outputs": [],
      "source": [
        "def Averaging_Blurring(img, filter_size):\n",
        "  '''\n",
        "    Do not use libraries\n",
        "    input(s):\n",
        "      img (ndarray): input image\n",
        "      filter_size (ndarray): filter size\n",
        "    output(s):\n",
        "      result (ndarray): computed averaging blurring\n",
        "  '''\n",
        "  image = Reflect101(img, filter_size)\n",
        "  result = np.zeros((img.shape))\n",
        "\n",
        "  #######################\n",
        "  #    your code here   #\n",
        "  #######################\n",
        "\n",
        "  return result"
      ]
    },
    {
      "cell_type": "code",
      "execution_count": 164,
      "metadata": {
        "id": "UjpSxK6vqLRj"
      },
      "outputs": [],
      "source": [
        "def Median_Blurring(img, filter_size):\n",
        "  '''\n",
        "    Do not use libraries\n",
        "    input(s):\n",
        "      img (ndarray): input image\n",
        "      filter_size (ndarray): filter size\n",
        "    output(s):\n",
        "      result (ndarray): computed median blurring\n",
        "  '''\n",
        "  image = Reflect101(img, filter_size)\n",
        "  result = np.zeros((img.shape))\n",
        "\n",
        "  #######################\n",
        "  #    your code here   #\n",
        "  #######################\n",
        "\n",
        "  return result"
      ]
    },
    {
      "cell_type": "code",
      "execution_count": 165,
      "metadata": {
        "id": "KZXYz8X-YCN_"
      },
      "outputs": [],
      "source": [
        "def Gaussian_Blurring(img, filter_size, std):\n",
        "    '''\n",
        "    Do not use libraries\n",
        "    input(s):\n",
        "      img (ndarray): input image\n",
        "      filter_size (tuple): filter size\n",
        "      std (float): std of gaussian kernel\n",
        "    output(s):\n",
        "      result (ndarray): computed gaussian blurring\n",
        "    '''\n",
        "    kernel = np.zeros((filter_size,filter_size))\n",
        "    #######################\n",
        "    #    your code here   #\n",
        "    #######################\n",
        "    output = img.copy()\n",
        "    result = cv2.filter2D(src = output, ddepth = -1, kernel = kernel)\n",
        "    return result"
      ]
    },
    {
      "cell_type": "code",
      "execution_count": null,
      "metadata": {
        "id": "BUU4wIdqoaiV"
      },
      "outputs": [],
      "source": [
        "# Do not change this cell\n",
        "plt.figure(figsize=(15,15))\n",
        "plt.subplot(2,2,1)\n",
        "plt.imshow(image,cmap='gray')\n",
        "plt.title(\"main image\")\n",
        "plt.axis(\"off\")\n",
        "\n",
        "AB = Averaging_Blurring(image,15)\n",
        "plt.subplot(2,2,2)\n",
        "plt.imshow(AB,cmap='gray')\n",
        "plt.title(\"Averaging Blurring\")\n",
        "plt.axis(\"off\")\n",
        "\n",
        "MB = Median_Blurring(image,15)\n",
        "plt.subplot(2,2,3)\n",
        "plt.imshow(MB,cmap='gray')\n",
        "plt.title(\"Median Blurring\")\n",
        "plt.axis(\"off\")\n",
        "\n",
        "GB = Gaussian_Blurring(image,15,40)\n",
        "plt.subplot(2,2,4)\n",
        "plt.imshow(GB,cmap='gray')\n",
        "plt.title(\"Gaussian Blurring\")\n",
        "plt.axis(\"off\")\n"
      ]
    },
    {
      "cell_type": "markdown",
      "metadata": {
        "id": "QU6Lo26IJHI-"
      },
      "source": [
        "## part c"
      ]
    },
    {
      "cell_type": "markdown",
      "metadata": {
        "id": "CWDWxkySJaFI"
      },
      "source": [
        "<h3> in this section we want to implement all blurrings with opencv and compare their with part b </h3>\n",
        "<h3><b> note : for comparison, the parameters should be the same as in part b </b></h3>"
      ]
    },
    {
      "cell_type": "code",
      "execution_count": 172,
      "metadata": {
        "id": "XoT5hr28Of5I"
      },
      "outputs": [],
      "source": [
        "AveragingBlurring = ## your code here ##\n",
        "MedianBlurring = ## your code here ##\n",
        "GaussianBlurring = ## your code here ##"
      ]
    },
    {
      "cell_type": "code",
      "execution_count": null,
      "metadata": {
        "colab": {
          "base_uri": "https://localhost:8080/",
          "height": 1000
        },
        "id": "GcGO3tiBn99u",
        "outputId": "f38ec47e-cac9-48c1-fa35-b34afda3706b"
      },
      "outputs": [],
      "source": [
        "# Do not change this cell\n",
        "Array = [image, AveragingBlurring, MedianBlurring, GaussianBlurring]\n",
        "titles = ['noisy image', 'Averaging Blurring', 'Median Blurring', 'Gaussian Blurring']\n",
        "plt.figure(figsize=(15,15))\n",
        "for i in range(4):\n",
        "  plt.subplot(2,2,i+1)\n",
        "  plt.imshow(Array[i],cmap='gray')\n",
        "  plt.title(titles[i])\n",
        "  plt.axis(\"off\")"
      ]
    }
  ],
  "metadata": {
    "colab": {
      "provenance": []
    },
    "gpuClass": "standard",
    "kernelspec": {
      "display_name": "Python 3",
      "name": "python3"
    },
    "language_info": {
      "name": "python"
    }
  },
  "nbformat": 4,
  "nbformat_minor": 0
}
