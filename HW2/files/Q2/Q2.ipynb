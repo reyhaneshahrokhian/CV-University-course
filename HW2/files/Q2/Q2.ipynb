{
  "cells": [
    {
      "cell_type": "code",
      "execution_count": null,
      "metadata": {
        "id": "tuRJl_C0pN55"
      },
      "outputs": [],
      "source": [
        "import cv2\n",
        "import numpy as np\n",
        "import matplotlib.pyplot as plt\n",
        "import math"
      ]
    },
    {
      "cell_type": "markdown",
      "metadata": {
        "id": "4xLjg_dupxK7"
      },
      "source": [
        "# Question 2"
      ]
    },
    {
      "cell_type": "markdown",
      "metadata": {
        "id": "adLtdHqPyr1P"
      },
      "source": [
        "# part2"
      ]
    },
    {
      "cell_type": "code",
      "execution_count": null,
      "metadata": {
        "id": "lhghKY_7p0zB"
      },
      "outputs": [],
      "source": [
        "def calc_hist(image):\n",
        "    '''\n",
        "    Do not use libraries\n",
        "    calculate image histogram\n",
        "    input(s):\n",
        "      image (ndarray): input image\n",
        "    output(s):\n",
        "      hist (ndarray): computed input image histogram\n",
        "    '''\n",
        "    hist = np.zeros(256,dtype=int)\n",
        "\n",
        "    #######################\n",
        "    #    your code here   #\n",
        "    #######################\n",
        "\n",
        "    return hist"
      ]
    },
    {
      "cell_type": "code",
      "execution_count": null,
      "metadata": {
        "id": "UrzXHhl4ul8w"
      },
      "outputs": [],
      "source": [
        "def calc_cdf(channel):\n",
        "  '''\n",
        "    Do not use libraries\n",
        "    calculate image cdf\n",
        "    input(s):\n",
        "      channel (ndarray): input image channel\n",
        "    output(s):\n",
        "      cdf (ndarray): computed cdf for input image channel\n",
        "  '''\n",
        "\n",
        "  #######################\n",
        "  #    your code here   #\n",
        "  #######################\n",
        "\n",
        "  return cdf"
      ]
    },
    {
      "cell_type": "code",
      "execution_count": null,
      "metadata": {
        "id": "IbWA_HeKrKcP"
      },
      "outputs": [],
      "source": [
        "def hist_matching(src_image,ref_image):\n",
        "  '''\n",
        "  don't use libraries\n",
        "  input(s):\n",
        "    src_image (ndarray): source image\n",
        "    ref_image (ndarray): reference image\n",
        "  output(s):\n",
        "    output_image (ndarray): transformation of source image so that its histogram matches histogram of refrence image\n",
        "  '''\n",
        "  output_image = src_image.copy()\n",
        "  channels = [(0, 'Blue channel'), (1, 'Green channel'), (2, 'Red channel')]\n",
        "  for channel, title in channels:\n",
        "\n",
        "    #######################\n",
        "    #    your code here   #\n",
        "    #######################\n",
        "\n",
        "  return output_image"
      ]
    },
    {
      "cell_type": "code",
      "execution_count": null,
      "metadata": {
        "id": "y_XCMm9Fz8C-"
      },
      "outputs": [],
      "source": [
        "# Do not change this cell\n",
        "src = cv2.imread('input.png')\n",
        "ref = cv2.imread('ref.png')\n",
        "Array = [src, ref, hist_matching(src,ref)]\n",
        "titles = ['source image', 'reference image', 'output image']\n",
        "plt.figure(figsize=(20,20))\n",
        "for i in range(3):\n",
        "  plt.subplot(1,3,i+1)\n",
        "  plt.imshow(Array[i][:,:,::-1])\n",
        "  plt.title(titles[i])\n",
        "  plt.axis('off')"
      ]
    },
    {
      "cell_type": "code",
      "execution_count": null,
      "metadata": {
        "id": "8KI6cMT16iNo"
      },
      "outputs": [],
      "source": [
        "# Do not change this cell\n",
        "fig = plt.figure(figsize= (16, 5))\n",
        "channels = [(0, 'Blue channel'), (1, 'Green channel'), (2, 'Red channel')]\n",
        "output = hist_matching(src,ref)\n",
        "for channel, title in channels:\n",
        "    fig.add_subplot(1, 3, channel+ 1)\n",
        "    a = calc_cdf(output[:,:,channel])\n",
        "    b = calc_cdf(src[:,:,channel])\n",
        "    c = calc_cdf(ref[:,:,channel])\n",
        "    plt.plot(a,label='output')\n",
        "    plt.plot(b,label='src')\n",
        "    plt.plot(c,label='ref')\n",
        "    plt.legend()\n",
        "    plt.title(title)"
      ]
    }
  ],
  "metadata": {
    "colab": {
      "provenance": []
    },
    "kernelspec": {
      "display_name": "Python 3",
      "name": "python3"
    },
    "language_info": {
      "name": "python"
    }
  },
  "nbformat": 4,
  "nbformat_minor": 0
}
