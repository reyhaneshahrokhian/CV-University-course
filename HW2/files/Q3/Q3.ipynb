{
  "cells": [
    {
      "cell_type": "code",
      "execution_count": null,
      "metadata": {
        "id": "2fTRRkUQGn9_"
      },
      "outputs": [],
      "source": [
        "import numpy as np\n",
        "import cv2\n",
        "import math\n",
        "import matplotlib.pyplot as plt\n",
        "from google.colab.patches import cv2_imshow"
      ]
    },
    {
      "cell_type": "markdown",
      "metadata": {
        "id": "NjnH9p_GCDq7"
      },
      "source": [
        "# Question 3\n"
      ]
    },
    {
      "cell_type": "markdown",
      "metadata": {
        "id": "dEQWZKw6CJG5"
      },
      "source": [
        "## part a"
      ]
    },
    {
      "cell_type": "markdown",
      "metadata": {
        "id": "cWTTdTsZCNA_"
      },
      "source": [
        "<h3> in this section we want to implement histogram equalization </h3>\n",
        "<h3> you can use opencv library </h3>"
      ]
    },
    {
      "cell_type": "code",
      "execution_count": null,
      "metadata": {
        "id": "dUmSc-arCA-5"
      },
      "outputs": [],
      "source": [
        "image = cv2.imread('img_improvment.png',cv2.IMREAD_GRAYSCALE)\n",
        "output_image = image.copy()\n",
        "equalize_image = ## your code here ##"
      ]
    },
    {
      "cell_type": "code",
      "execution_count": null,
      "metadata": {
        "id": "6usFo_74Hc6U"
      },
      "outputs": [],
      "source": [
        "plt.figure(figsize=(20,20))\n",
        "plt.subplot(1,2,1)\n",
        "plt.imshow(image, cmap='gray')\n",
        "plt.title('main image')\n",
        "plt.axis('off')\n",
        "\n",
        "plt.subplot(1,2,2)\n",
        "plt.imshow(equalize_image, cmap='gray')\n",
        "plt.title('equalized image')\n",
        "plt.axis('off')"
      ]
    },
    {
      "cell_type": "markdown",
      "metadata": {
        "id": "mAeavcseIVD4"
      },
      "source": [
        "## part b1\n"
      ]
    },
    {
      "cell_type": "markdown",
      "metadata": {
        "id": "Kzh8stzmP7zG"
      },
      "source": [
        "<h3> in this section we want to implement the first method for ACE </h3>\n",
        "<h3> you are free to use opencv library </h3>\n"
      ]
    },
    {
      "cell_type": "code",
      "execution_count": null,
      "metadata": {
        "id": "Agc8koDGIUET"
      },
      "outputs": [],
      "source": [
        "def ACE1(image, gridSize):\n",
        "  '''\n",
        "  you can use the equalize function of OpenCV for each grid\n",
        "  Use first method for ACE implementation (calculating transition function for each grid)\n",
        "  input(s):\n",
        "    image (ndarray): input image\n",
        "    gridSize (int): window size for calculating histogram equalization\n",
        "  output(s):\n",
        "    output (ndarray): improved image\n",
        "  '''\n",
        "  x,y = image.shape\n",
        "  output_image = image.copy()\n",
        "\n",
        "  #######################\n",
        "  #    your code here   #\n",
        "  #######################\n",
        "\n",
        "  return output_image"
      ]
    },
    {
      "cell_type": "code",
      "execution_count": null,
      "metadata": {
        "id": "GwFbSeUKSj9V"
      },
      "outputs": [],
      "source": [
        "plt.figure(figsize=(20,20))\n",
        "plt.subplot(1,2,1)\n",
        "plt.imshow(image, cmap='gray')\n",
        "plt.title('main image')\n",
        "plt.axis('off')\n",
        "\n",
        "plt.subplot(1,2,2)\n",
        "output_image = ACE1(image,48)\n",
        "plt.imshow(output_image, cmap='gray')\n",
        "plt.title('equalized image')\n",
        "plt.axis('off')"
      ]
    },
    {
      "cell_type": "markdown",
      "metadata": {
        "id": "VN-frZQyT_Tf"
      },
      "source": [
        "## part b2"
      ]
    },
    {
      "cell_type": "markdown",
      "metadata": {
        "id": "_rcxJ6IhtAAb"
      },
      "source": [
        "<h3> in this section we want to implement the second method for ACE </h3>\n",
        "<h3> you are free to use opencv library </h3>"
      ]
    },
    {
      "cell_type": "code",
      "execution_count": null,
      "metadata": {
        "id": "MeFn2McfsdOj"
      },
      "outputs": [],
      "source": [
        "def ACE2(image, gridSize):\n",
        "    '''\n",
        "    you can just use the equalize function of OpenCV for each grid\n",
        "    You can use OpenCV built-in tools for applying padding\n",
        "    Use second method for ACE implementation (calculating transition function for each pixel)\n",
        "    input(s):\n",
        "      image (ndarray): input image\n",
        "      gridSize (tuple): window size for calculating histogram equalization\n",
        "    output(s):\n",
        "      output (ndarray): improved image\n",
        "    '''\n",
        "    output = image.copy()\n",
        "\n",
        "    #######################\n",
        "    #    your code here   #\n",
        "    #######################\n",
        "\n",
        "    return output"
      ]
    },
    {
      "cell_type": "code",
      "execution_count": null,
      "metadata": {
        "id": "Kawct8DOsoFj"
      },
      "outputs": [],
      "source": [
        "plt.figure(figsize=(20,20))\n",
        "plt.subplot(1,2,1)\n",
        "plt.imshow(image, cmap='gray')\n",
        "plt.title('main image')\n",
        "plt.axis('off')\n",
        "\n",
        "plt.subplot(1,2,2)\n",
        "output_image = ACE2(image,(70,70))\n",
        "plt.imshow(output_image, cmap='gray')\n",
        "plt.title('equalized image')\n",
        "plt.axis('off')"
      ]
    },
    {
      "cell_type": "markdown",
      "metadata": {
        "id": "gxpaljXPtMeW"
      },
      "source": [
        "## part b3"
      ]
    },
    {
      "cell_type": "markdown",
      "metadata": {
        "id": "oih3_lXLtUe7"
      },
      "source": [
        "<h3> in this section we want to implement CLAHE </h3>\n",
        "<h3><b> note : you can just use opencv library for calculate histogram and applying padding </b></h3>\n",
        "<h3><b>note : you can't use the equalize function of opencv</b></h3>"
      ]
    },
    {
      "cell_type": "code",
      "execution_count": null,
      "metadata": {
        "id": "gpIKzl2ktSpg"
      },
      "outputs": [],
      "source": [
        "def CLAHE(image, gridSize, clip_limit):\n",
        "    '''\n",
        "    you can just use opencv library for calculate histogram and applying padding\n",
        "    you can't use the equalize function of opencv\n",
        "    Use second method for ACE implementation (calculating transition function for each pixel)\n",
        "    input(s):\n",
        "      image (ndarray): input image\n",
        "      gridSize (tuple): window size for calculating histogram equalization\n",
        "      clip_limit (int): threshold for contrast limiting\n",
        "    output(s):\n",
        "      output (ndarray): improved image\n",
        "    '''\n",
        "    output = image.copy()\n",
        "\n",
        "    #######################\n",
        "    #    your code here   #\n",
        "    #######################\n",
        "\n",
        "    return output"
      ]
    },
    {
      "cell_type": "code",
      "execution_count": null,
      "metadata": {
        "id": "iAh5T7aZu7oO"
      },
      "outputs": [],
      "source": [
        "plt.figure(figsize=(20,20))\n",
        "plt.subplot(1,2,1)\n",
        "plt.imshow(image, cmap='gray')\n",
        "plt.title('main image')\n",
        "plt.axis('off')\n",
        "\n",
        "plt.subplot(1,2,2)\n",
        "output_image = CLAHE(image,(70,70), 100)\n",
        "plt.imshow(output_image, cmap='gray')\n",
        "plt.title('equalized image')\n",
        "plt.axis('off')"
      ]
    },
    {
      "cell_type": "markdown",
      "metadata": {
        "id": "WbtwcVDFdDVg"
      },
      "source": [
        "# part c\n"
      ]
    },
    {
      "cell_type": "markdown",
      "metadata": {},
      "source": [
        "<h3> in this section we want to implement CLAHE using opencv </h3>\n"
      ]
    },
    {
      "cell_type": "code",
      "execution_count": null,
      "metadata": {
        "id": "i-qzy_F4dHDX"
      },
      "outputs": [],
      "source": [
        "def CLAHE(image, gridSize, clipLimit):\n",
        "    '''\n",
        "    use opencv library for CLAHE.\n",
        "    input(s):\n",
        "      image (ndarray): input image\n",
        "      gridSize (tuple): window size for calculating histogram equalization\n",
        "      clip_limit (int): threshold for contrast limiting\n",
        "    output(s):\n",
        "      output (ndarray): improved image\n",
        "    '''\n",
        "    return clahe_output"
      ]
    },
    {
      "cell_type": "markdown",
      "metadata": {},
      "source": [
        "<h3> run the following sections to answer part c </h3>\n"
      ]
    },
    {
      "cell_type": "code",
      "execution_count": null,
      "metadata": {
        "id": "fo-H6-fYeEzT"
      },
      "outputs": [],
      "source": [
        "# dont change this cell\n",
        "plt.figure(figsize=(20,20))\n",
        "plt.subplot(1,2,1)\n",
        "plt.imshow(image, cmap='gray')\n",
        "plt.title('main image')\n",
        "plt.axis('off')\n",
        "\n",
        "plt.subplot(1,2,2)\n",
        "output_image1 = CLAHE(image,(128,128), 2)\n",
        "plt.imshow(output_image1, cmap='gray')\n",
        "plt.title('equalized image')\n",
        "plt.axis('off')"
      ]
    },
    {
      "cell_type": "code",
      "execution_count": null,
      "metadata": {
        "id": "pxa0V2_HeHc0"
      },
      "outputs": [],
      "source": [
        "# dont change this cell\n",
        "plt.figure(figsize=(20,20))\n",
        "plt.subplot(1,2,1)\n",
        "plt.imshow(image, cmap='gray')\n",
        "plt.title('main image')\n",
        "plt.axis('off')\n",
        "\n",
        "plt.subplot(1,2,2)\n",
        "output_image2 = CLAHE(image,(128,128), 128)\n",
        "plt.imshow(output_image2, cmap='gray')\n",
        "plt.title('equalized image')\n",
        "plt.axis('off')"
      ]
    },
    {
      "cell_type": "code",
      "execution_count": null,
      "metadata": {
        "id": "xZvuzot5eIjh"
      },
      "outputs": [],
      "source": [
        "# dont change this cell\n",
        "plt.figure(figsize=(20,20))\n",
        "plt.subplot(1,2,1)\n",
        "plt.imshow(image, cmap='gray')\n",
        "plt.title('main image')\n",
        "plt.axis('off')\n",
        "\n",
        "plt.subplot(1,2,2)\n",
        "output_image3 = CLAHE(image,(16,16), 2)\n",
        "plt.imshow(output_image3, cmap='gray')\n",
        "plt.title('equalized image')\n",
        "plt.axis('off')"
      ]
    },
    {
      "cell_type": "code",
      "execution_count": null,
      "metadata": {
        "id": "paeDNXDFeLG3"
      },
      "outputs": [],
      "source": [
        "# dont change this cell\n",
        "plt.figure(figsize=(20,20))\n",
        "plt.subplot(1,2,1)\n",
        "plt.imshow(image, cmap='gray')\n",
        "plt.title('main image')\n",
        "plt.axis('off')\n",
        "\n",
        "plt.subplot(1,2,2)\n",
        "output_image4 = CLAHE(image,(16,16), 128)\n",
        "plt.imshow(output_image4, cmap='gray')\n",
        "plt.title('equalized image')\n",
        "plt.axis('off')"
      ]
    }
  ],
  "metadata": {
    "colab": {
      "provenance": [],
      "toc_visible": true
    },
    "kernelspec": {
      "display_name": "Python 3",
      "name": "python3"
    },
    "language_info": {
      "name": "python"
    }
  },
  "nbformat": 4,
  "nbformat_minor": 0
}
